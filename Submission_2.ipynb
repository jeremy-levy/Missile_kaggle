{
 "cells": [
  {
   "cell_type": "code",
   "execution_count": 1,
   "id": "756ce97f",
   "metadata": {},
   "outputs": [],
   "source": [
    "from tsfresh.examples import load_robot_execution_failures\n",
    "import pandas as pd\n",
    "import tsfresh\n",
    "import matplotlib.pyplot as plt\n",
    "\n",
    "from sklearn.preprocessing import Normalizer\n",
    "from sklearn.cluster import KMeans\n",
    "from sklearn.preprocessing import PolynomialFeatures\n",
    "from sklearn.ensemble import RandomForestClassifier\n",
    "from sklearn.linear_model import LinearRegression\n",
    "from sklearn.cluster import KMeans\n",
    "from ML.feature_selection import FeatureSelection\n",
    "from ML.model import Model, min_acc\n",
    "from ML.process_data import Data\n",
    "from utils.help_classes import ScalerEnum, ModelsEnum\n",
    "from tqdm import tqdm\n",
    "from imblearn.over_sampling import RandomOverSampler\n",
    "\n",
    "from utils.help_classes import ModelsEnum\n",
    "from sklearn.model_selection import train_test_split\n",
    "import os\n",
    "import datetime\n",
    "from sklearn.metrics import make_scorer\n",
    "from sklearn.metrics import accuracy_score\n",
    "\n",
    "import pickle\n",
    "import numpy as np\n",
    "import category_encoders as ce\n",
    "import plotly_express as px\n",
    "from sklearn.decomposition import PCA\n",
    "from imblearn.under_sampling import RandomUnderSampler\n",
    "from sklearn.preprocessing import MinMaxScaler\n",
    "from sklearn.linear_model import LogisticRegression\n",
    "\n",
    "from numpy.linalg import LinAlgError"
   ]
  },
  {
   "cell_type": "code",
   "execution_count": 2,
   "id": "25a25cdd",
   "metadata": {},
   "outputs": [],
   "source": [
    "X = pd.read_csv(os.path.join('data_csv', 'features_train.csv'))\n",
    "X['time_stamp'] = pd.to_datetime(X['time_stamp'])"
   ]
  },
  {
   "cell_type": "code",
   "execution_count": 3,
   "id": "960ce681",
   "metadata": {},
   "outputs": [],
   "source": [
    "X_train = X.loc[X['time_stamp'] < X['time_stamp'].quantile(q=0.9)]\n",
    "X_val = X.loc[X['time_stamp'] >= X['time_stamp'].quantile(q=0.9)]"
   ]
  },
  {
   "cell_type": "code",
   "execution_count": 4,
   "id": "288bd023",
   "metadata": {},
   "outputs": [
    {
     "name": "stdout",
     "output_type": "stream",
     "text": [
      "X_train (29466, 56)\n",
      "X_val (3275, 56)\n"
     ]
    }
   ],
   "source": [
    "print('X_train', X_train.shape)\n",
    "print('X_val', X_val.shape)"
   ]
  },
  {
   "cell_type": "code",
   "execution_count": 5,
   "id": "acb3f3e3",
   "metadata": {},
   "outputs": [],
   "source": [
    "y_train = X_train['label']\n",
    "X_train = X_train.drop(columns=['label', 'time_stamp', 'traj'])\n",
    "\n",
    "y_val = X_val['label']\n",
    "X_val = X_val.drop(columns=['label', 'time_stamp', 'traj'])"
   ]
  },
  {
   "cell_type": "code",
   "execution_count": 6,
   "id": "8d1e0b62",
   "metadata": {},
   "outputs": [
    {
     "name": "stdout",
     "output_type": "stream",
     "text": [
      "before sampling (29466, 53)\n",
      "after sampling (6381, 53)\n"
     ]
    }
   ],
   "source": [
    "print('before sampling', X_train.shape)\n",
    "X_train = X_train.fillna(X_train.mean())\n",
    "\n",
    "sampling_strategy = \"not minority\"\n",
    "rus = RandomUnderSampler(sampling_strategy=sampling_strategy)\n",
    "X_train, y_train = rus.fit_resample(X_train, y_train)\n",
    "print('after sampling', X_train.shape)"
   ]
  },
  {
   "cell_type": "code",
   "execution_count": 7,
   "id": "b5f70545",
   "metadata": {},
   "outputs": [],
   "source": [
    "X_train = X_train.fillna(X_train.median())\n",
    "X_val = X_val.fillna(X_val.median())"
   ]
  },
  {
   "cell_type": "code",
   "execution_count": 8,
   "id": "f34698ce",
   "metadata": {},
   "outputs": [],
   "source": [
    "scaler = MinMaxScaler()\n",
    "scaler.fit(X_train)\n",
    "X_train = scaler.transform(X_train)\n",
    "X_val = scaler.transform(X_val)"
   ]
  },
  {
   "cell_type": "code",
   "execution_count": 22,
   "id": "54ed1bcd",
   "metadata": {},
   "outputs": [],
   "source": [
    "class_weight = {0: 0.3, 1: 8, 2: 2}"
   ]
  },
  {
   "cell_type": "code",
   "execution_count": 23,
   "id": "73bac042",
   "metadata": {},
   "outputs": [
    {
     "name": "stdout",
     "output_type": "stream",
     "text": [
      "Fitting 3 folds for each of 30 candidates, totalling 90 fits\n",
      "{'accuracy': [0.9490076335877863], 'f1_': [0.9336897877315735], 'jaccard': [0.9029633933759442], 'recall': [0.9490076335877863], 'min_acc': [0.9239130434782609], 'acc_0': [0.9548098434004474], 'acc_1': [0.9239130434782609], 'acc_2': [0.9858490566037735]}\n"
     ]
    },
    {
     "name": "stderr",
     "output_type": "stream",
     "text": [
      "Use subset (sliced data) of np.ndarray is not recommended because it will generate extra copies and increase memory consumption\n"
     ]
    }
   ],
   "source": [
    "ml_model = Model(model_name=\"time_series_3_\" + str(ModelsEnum.Xgboost), classifier_method=ModelsEnum.Xgboost,  \n",
    "                 verbose=True, binary_task=False, write_csv=True, class_weight=class_weight)\n",
    "\n",
    "trained_model, results_train = ml_model.cross_fold_validation(X_train, y_train, grid_search=False, cv=3, \n",
    "                                                              n_iter=30, scoring=make_scorer(min_acc), n_jobs=3)\n",
    "results_dict = ml_model.test_set(X_val, y_val)"
   ]
  },
  {
   "cell_type": "markdown",
   "id": "d94e27f6",
   "metadata": {},
   "source": [
    "## Preparing submission"
   ]
  },
  {
   "cell_type": "code",
   "execution_count": 24,
   "id": "d4e172d7",
   "metadata": {},
   "outputs": [],
   "source": [
    "X_test = pd.read_csv(os.path.join('data_csv', 'features_test.csv'))"
   ]
  },
  {
   "cell_type": "code",
   "execution_count": 25,
   "id": "cb0e126a",
   "metadata": {},
   "outputs": [],
   "source": [
    "traj = X_test['traj'].values"
   ]
  },
  {
   "cell_type": "code",
   "execution_count": 26,
   "id": "b035e569",
   "metadata": {},
   "outputs": [],
   "source": [
    "X_test = X_test.drop(columns=['label', 'time_stamp', 'traj'])\n",
    "X_test = X_test.fillna(X_test.median())\n",
    "X_test = scaler.transform(X_test)"
   ]
  },
  {
   "cell_type": "code",
   "execution_count": 27,
   "id": "a5ab72d1",
   "metadata": {},
   "outputs": [
    {
     "name": "stderr",
     "output_type": "stream",
     "text": [
      "Use subset (sliced data) of np.ndarray is not recommended because it will generate extra copies and increase memory consumption\n"
     ]
    }
   ],
   "source": [
    "final_prediction = trained_model.predict(X_test)"
   ]
  },
  {
   "cell_type": "code",
   "execution_count": 28,
   "id": "03c01608",
   "metadata": {},
   "outputs": [],
   "source": [
    "test_predictions = pd.DataFrame({\n",
    "        'trajectory_ind': traj,\n",
    "        'label': final_prediction\n",
    "    })\n",
    "test_predictions.to_csv('submission_2_StackedModel.csv', index=False)"
   ]
  },
  {
   "cell_type": "code",
   "execution_count": null,
   "id": "ee1374c0",
   "metadata": {},
   "outputs": [],
   "source": []
  }
 ],
 "metadata": {
  "kernelspec": {
   "display_name": "Python 3",
   "language": "python",
   "name": "python3"
  },
  "language_info": {
   "codemirror_mode": {
    "name": "ipython",
    "version": 3
   },
   "file_extension": ".py",
   "mimetype": "text/x-python",
   "name": "python",
   "nbconvert_exporter": "python",
   "pygments_lexer": "ipython3",
   "version": "3.8.8"
  }
 },
 "nbformat": 4,
 "nbformat_minor": 5
}
