{
 "cells": [
  {
   "cell_type": "code",
   "execution_count": 35,
   "id": "f50d5cd5",
   "metadata": {},
   "outputs": [],
   "source": [
    "from tsfresh.examples import load_robot_execution_failures\n",
    "import pandas as pd\n",
    "import tsfresh\n",
    "import matplotlib.pyplot as plt\n",
    "\n",
    "from sklearn.preprocessing import Normalizer\n",
    "from sklearn.cluster import KMeans\n",
    "from sklearn.preprocessing import PolynomialFeatures\n",
    "from sklearn.ensemble import RandomForestClassifier\n",
    "from sklearn.linear_model import LinearRegression\n",
    "from sklearn.cluster import KMeans\n",
    "from ML.feature_selection import FeatureSelection\n",
    "from ML.model import Model, min_acc\n",
    "from ML.process_data import Data\n",
    "from utils.help_classes import ScalerEnum, ModelsEnum\n",
    "from tqdm import tqdm\n",
    "from imblearn.over_sampling import RandomOverSampler\n",
    "\n",
    "from utils.help_classes import ModelsEnum\n",
    "from sklearn.model_selection import train_test_split\n",
    "import os\n",
    "import datetime\n",
    "from sklearn.metrics import make_scorer\n",
    "from sklearn.metrics import accuracy_score\n",
    "\n",
    "import pickle\n",
    "import numpy as np\n",
    "import category_encoders as ce\n",
    "import plotly_express as px\n",
    "from sklearn.decomposition import PCA\n",
    "from imblearn.under_sampling import RandomUnderSampler\n",
    "from sklearn.preprocessing import MinMaxScaler\n",
    "from sklearn.linear_model import LogisticRegression\n",
    "\n",
    "from numpy.linalg import LinAlgError"
   ]
  },
  {
   "cell_type": "code",
   "execution_count": 2,
   "id": "5a21a05e",
   "metadata": {},
   "outputs": [],
   "source": [
    "X = pd.read_csv(os.path.join('data_csv', 'features_train.csv'))\n",
    "X['time_stamp'] = pd.to_datetime(X['time_stamp'])"
   ]
  },
  {
   "cell_type": "code",
   "execution_count": 17,
   "id": "fb12d509",
   "metadata": {},
   "outputs": [],
   "source": [
    "X_train = X.loc[X['time_stamp'] < X['time_stamp'].quantile(q=0.95)]\n",
    "X_val = X.loc[X['time_stamp'] >= X['time_stamp'].quantile(q=0.95)]"
   ]
  },
  {
   "cell_type": "code",
   "execution_count": 18,
   "id": "da4326fe",
   "metadata": {},
   "outputs": [
    {
     "name": "stdout",
     "output_type": "stream",
     "text": [
      "X_train (31104, 56)\n",
      "X_val (1637, 56)\n"
     ]
    }
   ],
   "source": [
    "print('X_train', X_train.shape)\n",
    "print('X_val', X_val.shape)"
   ]
  },
  {
   "cell_type": "code",
   "execution_count": 5,
   "id": "ed4f797b",
   "metadata": {},
   "outputs": [],
   "source": [
    "y_train = X_train['label']\n",
    "X_train = X_train.drop(columns=['label', 'time_stamp', 'traj'])\n",
    "\n",
    "y_val = X_val['label']\n",
    "X_val = X_val.drop(columns=['label', 'time_stamp', 'traj'])"
   ]
  },
  {
   "cell_type": "code",
   "execution_count": 6,
   "id": "b20347a9",
   "metadata": {},
   "outputs": [
    {
     "name": "stdout",
     "output_type": "stream",
     "text": [
      "before sampling (29466, 53)\n",
      "after sampling (6381, 53)\n"
     ]
    }
   ],
   "source": [
    "print('before sampling', X_train.shape)\n",
    "X_train = X_train.fillna(X_train.mean())\n",
    "\n",
    "sampling_strategy = \"not minority\"\n",
    "rus = RandomUnderSampler(sampling_strategy=sampling_strategy)\n",
    "X_train, y_train = rus.fit_resample(X_train, y_train)\n",
    "print('after sampling', X_train.shape)"
   ]
  },
  {
   "cell_type": "code",
   "execution_count": 7,
   "id": "da647393",
   "metadata": {},
   "outputs": [],
   "source": [
    "X_train = X_train.fillna(X_train.median())\n",
    "X_val = X_val.fillna(X_val.median())"
   ]
  },
  {
   "cell_type": "code",
   "execution_count": 8,
   "id": "3973c23c",
   "metadata": {},
   "outputs": [],
   "source": [
    "scaler = MinMaxScaler()\n",
    "scaler.fit(X_train)\n",
    "X_train = scaler.transform(X_train)\n",
    "X_val = scaler.transform(X_val)"
   ]
  },
  {
   "cell_type": "code",
   "execution_count": 11,
   "id": "2dc96d89",
   "metadata": {
    "scrolled": false
   },
   "outputs": [
    {
     "name": "stdout",
     "output_type": "stream",
     "text": [
      "Fitting 3 folds for each of 10 candidates, totalling 30 fits\n",
      "{'accuracy': [0.945648854961832], 'f1_': [0.9374639048550811], 'jaccard': [0.8969012452939473], 'recall': [0.945648854961832], 'min_acc': [0.9299516908212561], 'acc_0': [0.9476510067114094], 'acc_1': [0.9299516908212561], 'acc_2': [0.9858490566037735]}\n"
     ]
    },
    {
     "name": "stderr",
     "output_type": "stream",
     "text": [
      "Use subset (sliced data) of np.ndarray is not recommended because it will generate extra copies and increase memory consumption\n"
     ]
    }
   ],
   "source": [
    "ml_model = Model(model_name=\"time_series_4_\" + str(ModelsEnum.Xgboost), classifier_method=ModelsEnum.Xgboost, \n",
    "                 verbose=True, binary_task=False,  write_csv=True, class_weight=class_weight)\n",
    "\n",
    "trained_model, results_train = ml_model.cross_fold_validation(X_train, y_train, grid_search=False, cv=3, \n",
    "                                                              n_iter=10, scoring=make_scorer(min_acc), n_jobs=2)\n",
    "results_dict = ml_model.test_set(X_val, y_val)"
   ]
  },
  {
   "cell_type": "markdown",
   "id": "8927f22f",
   "metadata": {},
   "source": [
    "## Examine predictions on test set (acc_0=94, acc_1=93, acc-2=95)"
   ]
  },
  {
   "cell_type": "code",
   "execution_count": 13,
   "id": "35a7111f",
   "metadata": {},
   "outputs": [
    {
     "name": "stdout",
     "output_type": "stream",
     "text": [
      "(8185, 4)\n",
      "Index(['trajectory_ind', 'final_prediction_proba_0',\n",
      "       'final_prediction_proba_1', 'final_prediction_proba_2'],\n",
      "      dtype='object')\n"
     ]
    }
   ],
   "source": [
    "predictions_proba = pd.read_csv('probas_PseudoLabelling.csv')\n",
    "print(predictions_proba.shape)\n",
    "print(predictions_proba.columns)"
   ]
  },
  {
   "cell_type": "code",
   "execution_count": 15,
   "id": "38b1fd53",
   "metadata": {
    "scrolled": true
   },
   "outputs": [
    {
     "data": {
      "image/png": "[encoded data removed]",
      "text/plain": [
       "<Figure size 432x288 with 1 Axes>"
      ]
     },
     "metadata": {
      "needs_background": "light"
     },
     "output_type": "display_data"
    },
    {
     "data": {
      "image/png": "[encoded data removed]",
      "text/plain": [
       "<Figure size 432x288 with 1 Axes>"
      ]
     },
     "metadata": {
      "needs_background": "light"
     },
     "output_type": "display_data"
    },
    {
     "data": {
      "image/png": "[encoded data removed]",
      "text/plain": [
       "<Figure size 432x288 with 1 Axes>"
      ]
     },
     "metadata": {
      "needs_background": "light"
     },
     "output_type": "display_data"
    }
   ],
   "source": [
    "plt.figure()\n",
    "plt.hist(predictions_proba.final_prediction_proba_0)\n",
    "plt.title('0')\n",
    "plt.show()\n",
    "\n",
    "plt.figure()\n",
    "plt.hist(predictions_proba.final_prediction_proba_1)\n",
    "plt.title('1')\n",
    "plt.show()\n",
    "\n",
    "plt.figure()\n",
    "plt.hist(predictions_proba.final_prediction_proba_2)\n",
    "plt.title('2')\n",
    "plt.show()"
   ]
  },
  {
   "cell_type": "code",
   "execution_count": 16,
   "id": "ea1b41bd",
   "metadata": {},
   "outputs": [
    {
     "name": "stdout",
     "output_type": "stream",
     "text": [
      "(1637, 4)\n",
      "Index(['trajectory_ind', 'final_prediction_proba_0',\n",
      "       'final_prediction_proba_1', 'final_prediction_proba_2'],\n",
      "      dtype='object')\n"
     ]
    }
   ],
   "source": [
    "predictions_proba_val = pd.read_csv('probas_PseudoLabelling_val.csv')\n",
    "print(predictions_proba_val.shape)\n",
    "print(predictions_proba_val.columns)"
   ]
  },
  {
   "cell_type": "code",
   "execution_count": 19,
   "id": "ee70af73",
   "metadata": {
    "scrolled": true
   },
   "outputs": [
    {
     "data": {
      "image/png": "[encoded data removed]",
      "text/plain": [
       "<Figure size 432x288 with 1 Axes>"
      ]
     },
     "metadata": {
      "needs_background": "light"
     },
     "output_type": "display_data"
    },
    {
     "data": {
      "image/png": "[encoded data removed]",
      "text/plain": [
       "<Figure size 432x288 with 1 Axes>"
      ]
     },
     "metadata": {
      "needs_background": "light"
     },
     "output_type": "display_data"
    },
    {
     "data": {
      "image/png": "[encoded data removed]",
      "text/plain": [
       "<Figure size 432x288 with 1 Axes>"
      ]
     },
     "metadata": {
      "needs_background": "light"
     },
     "output_type": "display_data"
    }
   ],
   "source": [
    "plt.figure()\n",
    "plt.hist(predictions_proba_val.final_prediction_proba_0)\n",
    "plt.title('0')\n",
    "plt.show()\n",
    "\n",
    "plt.figure()\n",
    "plt.hist(predictions_proba_val.final_prediction_proba_1)\n",
    "plt.title('1')\n",
    "plt.show()\n",
    "\n",
    "plt.figure()\n",
    "plt.hist(predictions_proba_val.final_prediction_proba_2)\n",
    "plt.title('2')\n",
    "plt.show()"
   ]
  },
  {
   "cell_type": "markdown",
   "id": "85c70f76",
   "metadata": {},
   "source": [
    "## Check on validation set"
   ]
  },
  {
   "cell_type": "code",
   "execution_count": 34,
   "id": "a944ae64",
   "metadata": {},
   "outputs": [],
   "source": [
    "threshold_0, threshold_1, threshold_2 = 0.9, 0.6, 0.9"
   ]
  },
  {
   "cell_type": "code",
   "execution_count": 35,
   "id": "50e36fb2",
   "metadata": {},
   "outputs": [],
   "source": [
    "traj_add, label_add = [], []\n",
    "for proba_0, proba_1, proba_2, traj in zip(predictions_proba_val.final_prediction_proba_0,  \n",
    "                                           predictions_proba_val.final_prediction_proba_1,  \n",
    "                                           predictions_proba_val.final_prediction_proba_2, \n",
    "                                           predictions_proba_val.trajectory_ind):\n",
    "    if proba_0 > threshold_0:\n",
    "        traj_add.append(traj)\n",
    "        label_add.append(0)\n",
    "    if proba_1 > threshold_1:\n",
    "        traj_add.append(traj)\n",
    "        label_add.append(1)\n",
    "    if proba_2 > threshold_2:\n",
    "        traj_add.append(traj)\n",
    "        label_add.append(2)"
   ]
  },
  {
   "cell_type": "code",
   "execution_count": 36,
   "id": "f0513a4b",
   "metadata": {},
   "outputs": [
    {
     "data": {
      "text/plain": [
       "1517"
      ]
     },
     "execution_count": 36,
     "metadata": {},
     "output_type": "execute_result"
    }
   ],
   "source": [
    "len(traj_add)"
   ]
  },
  {
   "cell_type": "code",
   "execution_count": 37,
   "id": "52dba72f",
   "metadata": {},
   "outputs": [
    {
     "name": "stdout",
     "output_type": "stream",
     "text": [
      "X_train (31104, 56)\n",
      "X_val (1637, 56)\n"
     ]
    }
   ],
   "source": [
    "X = pd.read_csv(os.path.join('data_csv', 'features_train.csv'))\n",
    "X['time_stamp'] = pd.to_datetime(X['time_stamp'])\n",
    "\n",
    "X_train = X.loc[X['time_stamp'] < X['time_stamp'].quantile(q=0.95)]\n",
    "X_val = X.loc[X['time_stamp'] >= X['time_stamp'].quantile(q=0.95)]\n",
    "\n",
    "print('X_train', X_train.shape)\n",
    "print('X_val', X_val.shape)"
   ]
  },
  {
   "cell_type": "code",
   "execution_count": 38,
   "id": "112bd2b7",
   "metadata": {},
   "outputs": [
    {
     "name": "stdout",
     "output_type": "stream",
     "text": [
      "X_add (1517, 56)\n",
      "X_train_new (32621, 56)\n"
     ]
    }
   ],
   "source": [
    "X_add = X_val.loc[X_val['traj'].isin(traj_add)]\n",
    "print('X_add', X_add.shape)\n",
    "\n",
    "X_train_new = pd.concat([X_train, X_add])\n",
    "print('X_train_new', X_train_new.shape)"
   ]
  },
  {
   "cell_type": "code",
   "execution_count": 39,
   "id": "4347a774",
   "metadata": {},
   "outputs": [
    {
     "name": "stderr",
     "output_type": "stream",
     "text": [
      "DataFrame.mean and DataFrame.median with numeric_only=None will include datetime64 and datetime64tz columns in a future version.\n"
     ]
    }
   ],
   "source": [
    "y_train_new = X_train_new['label']\n",
    "X_train_new = X_train_new.drop(columns=['label', 'time_stamp', 'traj'])\n",
    "\n",
    "y_val = X_val['label']\n",
    "X_val = X_val.drop(columns=['label', 'time_stamp', 'traj'])\n",
    "\n",
    "X_train_new = X_train_new.fillna(X_train.median())\n",
    "X_val = X_val.fillna(X_val.median())\n",
    "\n",
    "scaler = MinMaxScaler()\n",
    "scaler.fit(X_train_new)\n",
    "X_train_new = scaler.transform(X_train_new)\n",
    "X_val = scaler.transform(X_val)"
   ]
  },
  {
   "cell_type": "code",
   "execution_count": 40,
   "id": "1ba8fc12",
   "metadata": {},
   "outputs": [
    {
     "name": "stdout",
     "output_type": "stream",
     "text": [
      "Fitting 3 folds for each of 10 candidates, totalling 30 fits\n",
      "{'accuracy': [0.9957238851557727], 'f1_': [0.9959071067903739], 'jaccard': [0.9914841849148418], 'recall': [0.9957238851557727], 'min_acc': [0.9893899204244032], 'acc_0': [0.9974424552429667], 'acc_1': [0.9893899204244032], 'acc_2': [1.0]}\n"
     ]
    },
    {
     "name": "stderr",
     "output_type": "stream",
     "text": [
      "Use subset (sliced data) of np.ndarray is not recommended because it will generate extra copies and increase memory consumption\n"
     ]
    }
   ],
   "source": [
    "ml_model = Model(model_name=\"time_series_4_\" + str(ModelsEnum.Xgboost), classifier_method=ModelsEnum.Xgboost, \n",
    "                 verbose=True, binary_task=False,  write_csv=True, class_weight=class_weight)\n",
    "\n",
    "trained_model, results_train = ml_model.cross_fold_validation(X_train_new, y_train_new, grid_search=False, cv=3, \n",
    "                                                              n_iter=10, scoring=make_scorer(min_acc), n_jobs=2)\n",
    "results_dict = ml_model.test_set(X_val, y_val)"
   ]
  },
  {
   "cell_type": "markdown",
   "id": "dc0bb984",
   "metadata": {},
   "source": [
    "## PseudoLabelling on test set"
   ]
  },
  {
   "cell_type": "code",
   "execution_count": 3,
   "id": "edf037ae",
   "metadata": {},
   "outputs": [
    {
     "name": "stdout",
     "output_type": "stream",
     "text": [
      "X_train (32741, 56)\n",
      "X_test (8185, 56)\n"
     ]
    }
   ],
   "source": [
    "X_train = pd.read_csv(os.path.join('data_csv', 'features_train.csv'))\n",
    "X_train['time_stamp'] = pd.to_datetime(X_train['time_stamp'])\n",
    "\n",
    "X_test = pd.read_csv(os.path.join('data_csv', 'features_test.csv'))\n",
    "X_test['time_stamp'] = pd.to_datetime(X_test['time_stamp'])\n",
    "\n",
    "print('X_train', X_train.shape)\n",
    "print('X_test', X_test.shape)"
   ]
  },
  {
   "cell_type": "code",
   "execution_count": 4,
   "id": "4b40a9d4",
   "metadata": {},
   "outputs": [
    {
     "data": {
      "text/html": [
       "<div>\n",
       "<style scoped>\n",
       "    .dataframe tbody tr th:only-of-type {\n",
       "        vertical-align: middle;\n",
       "    }\n",
       "\n",
       "    .dataframe tbody tr th {\n",
       "        vertical-align: top;\n",
       "    }\n",
       "\n",
       "    .dataframe thead th {\n",
       "        text-align: right;\n",
       "    }\n",
       "</style>\n",
       "<table border=\"1\" class=\"dataframe\">\n",
       "  <thead>\n",
       "    <tr style=\"text-align: right;\">\n",
       "      <th></th>\n",
       "      <th>label</th>\n",
       "      <th>traj</th>\n",
       "      <th>time_stamp</th>\n",
       "      <th>coefs_0</th>\n",
       "      <th>coefs_1</th>\n",
       "      <th>coefs_2</th>\n",
       "      <th>higher_z</th>\n",
       "      <th>initial_point_x</th>\n",
       "      <th>initial_point_y</th>\n",
       "      <th>final_point_x</th>\n",
       "      <th>...</th>\n",
       "      <th>coefs_x_2</th>\n",
       "      <th>coefs_y_0</th>\n",
       "      <th>coefs_y_1</th>\n",
       "      <th>coefs_y_2</th>\n",
       "      <th>coefs_z_0</th>\n",
       "      <th>coefs_z_1</th>\n",
       "      <th>coefs_z_2</th>\n",
       "      <th>pos</th>\n",
       "      <th>speed</th>\n",
       "      <th>acc</th>\n",
       "    </tr>\n",
       "  </thead>\n",
       "  <tbody>\n",
       "    <tr>\n",
       "      <th>0</th>\n",
       "      <td>1</td>\n",
       "      <td>0</td>\n",
       "      <td>2015-12-29 14:50:34.045000</td>\n",
       "      <td>-1.825034</td>\n",
       "      <td>-0.203164</td>\n",
       "      <td>0.071941</td>\n",
       "      <td>0.077547</td>\n",
       "      <td>0.750917</td>\n",
       "      <td>-0.234958</td>\n",
       "      <td>0.836562</td>\n",
       "      <td>...</td>\n",
       "      <td>0.814846</td>\n",
       "      <td>-0.008371</td>\n",
       "      <td>-0.235226</td>\n",
       "      <td>0.023523</td>\n",
       "      <td>-0.113428</td>\n",
       "      <td>0.062726</td>\n",
       "      <td>0.068913</td>\n",
       "      <td>0.119786</td>\n",
       "      <td>0.260194</td>\n",
       "      <td>0.818093</td>\n",
       "    </tr>\n",
       "    <tr>\n",
       "      <th>1</th>\n",
       "      <td>1</td>\n",
       "      <td>1</td>\n",
       "      <td>2015-12-29 14:50:35.846440</td>\n",
       "      <td>-1.825034</td>\n",
       "      <td>-0.203164</td>\n",
       "      <td>0.071941</td>\n",
       "      <td>0.077547</td>\n",
       "      <td>0.750917</td>\n",
       "      <td>-0.234958</td>\n",
       "      <td>0.836562</td>\n",
       "      <td>...</td>\n",
       "      <td>0.814846</td>\n",
       "      <td>-0.008371</td>\n",
       "      <td>-0.235226</td>\n",
       "      <td>0.023523</td>\n",
       "      <td>-0.113428</td>\n",
       "      <td>0.062726</td>\n",
       "      <td>0.068913</td>\n",
       "      <td>0.119786</td>\n",
       "      <td>0.260194</td>\n",
       "      <td>0.818093</td>\n",
       "    </tr>\n",
       "    <tr>\n",
       "      <th>2</th>\n",
       "      <td>1</td>\n",
       "      <td>2</td>\n",
       "      <td>2015-12-29 14:50:37.647880</td>\n",
       "      <td>-1.825034</td>\n",
       "      <td>-0.203164</td>\n",
       "      <td>0.071941</td>\n",
       "      <td>0.077547</td>\n",
       "      <td>0.750917</td>\n",
       "      <td>-0.234958</td>\n",
       "      <td>0.836562</td>\n",
       "      <td>...</td>\n",
       "      <td>0.814846</td>\n",
       "      <td>-0.008371</td>\n",
       "      <td>-0.235226</td>\n",
       "      <td>0.023523</td>\n",
       "      <td>-0.113428</td>\n",
       "      <td>0.062726</td>\n",
       "      <td>0.068913</td>\n",
       "      <td>0.119786</td>\n",
       "      <td>0.260194</td>\n",
       "      <td>0.818093</td>\n",
       "    </tr>\n",
       "    <tr>\n",
       "      <th>3</th>\n",
       "      <td>1</td>\n",
       "      <td>3</td>\n",
       "      <td>2015-12-29 14:50:39.449320</td>\n",
       "      <td>-1.825034</td>\n",
       "      <td>-0.203164</td>\n",
       "      <td>0.071941</td>\n",
       "      <td>0.077547</td>\n",
       "      <td>0.750917</td>\n",
       "      <td>-0.234958</td>\n",
       "      <td>0.836562</td>\n",
       "      <td>...</td>\n",
       "      <td>0.814846</td>\n",
       "      <td>-0.008371</td>\n",
       "      <td>-0.235226</td>\n",
       "      <td>0.023523</td>\n",
       "      <td>-0.113428</td>\n",
       "      <td>0.062726</td>\n",
       "      <td>0.068913</td>\n",
       "      <td>0.119786</td>\n",
       "      <td>0.260194</td>\n",
       "      <td>0.818093</td>\n",
       "    </tr>\n",
       "    <tr>\n",
       "      <th>4</th>\n",
       "      <td>1</td>\n",
       "      <td>4</td>\n",
       "      <td>2013-08-23 23:46:53.847000</td>\n",
       "      <td>-2.742992</td>\n",
       "      <td>0.252271</td>\n",
       "      <td>0.079860</td>\n",
       "      <td>0.085605</td>\n",
       "      <td>0.896362</td>\n",
       "      <td>0.115318</td>\n",
       "      <td>1.230456</td>\n",
       "      <td>...</td>\n",
       "      <td>0.972505</td>\n",
       "      <td>-0.001629</td>\n",
       "      <td>0.009646</td>\n",
       "      <td>0.141864</td>\n",
       "      <td>-0.023579</td>\n",
       "      <td>0.045637</td>\n",
       "      <td>0.063285</td>\n",
       "      <td>0.023646</td>\n",
       "      <td>0.096122</td>\n",
       "      <td>0.984833</td>\n",
       "    </tr>\n",
       "  </tbody>\n",
       "</table>\n",
       "<p>5 rows × 56 columns</p>\n",
       "</div>"
      ],
      "text/plain": [
       "   label  traj                 time_stamp   coefs_0   coefs_1   coefs_2  \\\n",
       "0      1     0 2015-12-29 14:50:34.045000 -1.825034 -0.203164  0.071941   \n",
       "1      1     1 2015-12-29 14:50:35.846440 -1.825034 -0.203164  0.071941   \n",
       "2      1     2 2015-12-29 14:50:37.647880 -1.825034 -0.203164  0.071941   \n",
       "3      1     3 2015-12-29 14:50:39.449320 -1.825034 -0.203164  0.071941   \n",
       "4      1     4 2013-08-23 23:46:53.847000 -2.742992  0.252271  0.079860   \n",
       "\n",
       "   higher_z  initial_point_x  initial_point_y  final_point_x  ...  coefs_x_2  \\\n",
       "0  0.077547         0.750917        -0.234958       0.836562  ...   0.814846   \n",
       "1  0.077547         0.750917        -0.234958       0.836562  ...   0.814846   \n",
       "2  0.077547         0.750917        -0.234958       0.836562  ...   0.814846   \n",
       "3  0.077547         0.750917        -0.234958       0.836562  ...   0.814846   \n",
       "4  0.085605         0.896362         0.115318       1.230456  ...   0.972505   \n",
       "\n",
       "   coefs_y_0  coefs_y_1  coefs_y_2  coefs_z_0  coefs_z_1  coefs_z_2       pos  \\\n",
       "0  -0.008371  -0.235226   0.023523  -0.113428   0.062726   0.068913  0.119786   \n",
       "1  -0.008371  -0.235226   0.023523  -0.113428   0.062726   0.068913  0.119786   \n",
       "2  -0.008371  -0.235226   0.023523  -0.113428   0.062726   0.068913  0.119786   \n",
       "3  -0.008371  -0.235226   0.023523  -0.113428   0.062726   0.068913  0.119786   \n",
       "4  -0.001629   0.009646   0.141864  -0.023579   0.045637   0.063285  0.023646   \n",
       "\n",
       "      speed       acc  \n",
       "0  0.260194  0.818093  \n",
       "1  0.260194  0.818093  \n",
       "2  0.260194  0.818093  \n",
       "3  0.260194  0.818093  \n",
       "4  0.096122  0.984833  \n",
       "\n",
       "[5 rows x 56 columns]"
      ]
     },
     "execution_count": 4,
     "metadata": {},
     "output_type": "execute_result"
    }
   ],
   "source": [
    "X_train.head()"
   ]
  },
  {
   "cell_type": "code",
   "execution_count": 5,
   "id": "c99005b1",
   "metadata": {},
   "outputs": [
    {
     "data": {
      "text/html": [
       "<div>\n",
       "<style scoped>\n",
       "    .dataframe tbody tr th:only-of-type {\n",
       "        vertical-align: middle;\n",
       "    }\n",
       "\n",
       "    .dataframe tbody tr th {\n",
       "        vertical-align: top;\n",
       "    }\n",
       "\n",
       "    .dataframe thead th {\n",
       "        text-align: right;\n",
       "    }\n",
       "</style>\n",
       "<table border=\"1\" class=\"dataframe\">\n",
       "  <thead>\n",
       "    <tr style=\"text-align: right;\">\n",
       "      <th></th>\n",
       "      <th>label</th>\n",
       "      <th>traj</th>\n",
       "      <th>time_stamp</th>\n",
       "      <th>coefs_0</th>\n",
       "      <th>coefs_1</th>\n",
       "      <th>coefs_2</th>\n",
       "      <th>higher_z</th>\n",
       "      <th>initial_point_x</th>\n",
       "      <th>initial_point_y</th>\n",
       "      <th>final_point_x</th>\n",
       "      <th>...</th>\n",
       "      <th>coefs_x_2</th>\n",
       "      <th>coefs_y_0</th>\n",
       "      <th>coefs_y_1</th>\n",
       "      <th>coefs_y_2</th>\n",
       "      <th>coefs_z_0</th>\n",
       "      <th>coefs_z_1</th>\n",
       "      <th>coefs_z_2</th>\n",
       "      <th>pos</th>\n",
       "      <th>speed</th>\n",
       "      <th>acc</th>\n",
       "    </tr>\n",
       "  </thead>\n",
       "  <tbody>\n",
       "    <tr>\n",
       "      <th>0</th>\n",
       "      <td>0</td>\n",
       "      <td>32741</td>\n",
       "      <td>2013-04-20 05:09:02.116671</td>\n",
       "      <td>-8.079544</td>\n",
       "      <td>-0.298613</td>\n",
       "      <td>0.018610</td>\n",
       "      <td>0.020802</td>\n",
       "      <td>0.610764</td>\n",
       "      <td>0.102281</td>\n",
       "      <td>0.522912</td>\n",
       "      <td>...</td>\n",
       "      <td>0.550384</td>\n",
       "      <td>0.001547</td>\n",
       "      <td>0.014510</td>\n",
       "      <td>0.087032</td>\n",
       "      <td>-0.028459</td>\n",
       "      <td>0.009857</td>\n",
       "      <td>0.020106</td>\n",
       "      <td>0.032109</td>\n",
       "      <td>0.076993</td>\n",
       "      <td>0.557585</td>\n",
       "    </tr>\n",
       "    <tr>\n",
       "      <th>1</th>\n",
       "      <td>0</td>\n",
       "      <td>32742</td>\n",
       "      <td>2013-04-20 05:09:06.492507</td>\n",
       "      <td>-8.079544</td>\n",
       "      <td>-0.298613</td>\n",
       "      <td>0.018610</td>\n",
       "      <td>0.020802</td>\n",
       "      <td>0.610764</td>\n",
       "      <td>0.102281</td>\n",
       "      <td>0.522912</td>\n",
       "      <td>...</td>\n",
       "      <td>0.552937</td>\n",
       "      <td>0.004682</td>\n",
       "      <td>0.011009</td>\n",
       "      <td>0.087594</td>\n",
       "      <td>-0.031394</td>\n",
       "      <td>0.012550</td>\n",
       "      <td>0.020026</td>\n",
       "      <td>0.031809</td>\n",
       "      <td>0.062766</td>\n",
       "      <td>0.560190</td>\n",
       "    </tr>\n",
       "    <tr>\n",
       "      <th>2</th>\n",
       "      <td>0</td>\n",
       "      <td>32743</td>\n",
       "      <td>2013-04-20 05:09:10.868343</td>\n",
       "      <td>-8.079544</td>\n",
       "      <td>-0.298613</td>\n",
       "      <td>0.018610</td>\n",
       "      <td>0.020802</td>\n",
       "      <td>0.610764</td>\n",
       "      <td>0.102281</td>\n",
       "      <td>0.522912</td>\n",
       "      <td>...</td>\n",
       "      <td>0.551058</td>\n",
       "      <td>0.002960</td>\n",
       "      <td>0.013039</td>\n",
       "      <td>0.087207</td>\n",
       "      <td>-0.030987</td>\n",
       "      <td>0.012198</td>\n",
       "      <td>0.019904</td>\n",
       "      <td>0.032594</td>\n",
       "      <td>0.071817</td>\n",
       "      <td>0.558271</td>\n",
       "    </tr>\n",
       "    <tr>\n",
       "      <th>3</th>\n",
       "      <td>0</td>\n",
       "      <td>32744</td>\n",
       "      <td>2014-05-26 21:35:59.466000</td>\n",
       "      <td>-5.315356</td>\n",
       "      <td>-0.322977</td>\n",
       "      <td>0.039872</td>\n",
       "      <td>0.044778</td>\n",
       "      <td>0.689315</td>\n",
       "      <td>0.012985</td>\n",
       "      <td>0.513822</td>\n",
       "      <td>...</td>\n",
       "      <td>0.574530</td>\n",
       "      <td>0.013452</td>\n",
       "      <td>-0.041563</td>\n",
       "      <td>0.043278</td>\n",
       "      <td>-0.073638</td>\n",
       "      <td>0.035063</td>\n",
       "      <td>0.040767</td>\n",
       "      <td>0.074938</td>\n",
       "      <td>0.122885</td>\n",
       "      <td>0.577598</td>\n",
       "    </tr>\n",
       "    <tr>\n",
       "      <th>4</th>\n",
       "      <td>0</td>\n",
       "      <td>32745</td>\n",
       "      <td>2014-05-26 21:36:03.119319</td>\n",
       "      <td>-5.315356</td>\n",
       "      <td>-0.322977</td>\n",
       "      <td>0.039872</td>\n",
       "      <td>0.044778</td>\n",
       "      <td>0.689315</td>\n",
       "      <td>0.012985</td>\n",
       "      <td>0.513822</td>\n",
       "      <td>...</td>\n",
       "      <td>0.576408</td>\n",
       "      <td>0.012462</td>\n",
       "      <td>-0.039958</td>\n",
       "      <td>0.042554</td>\n",
       "      <td>-0.070258</td>\n",
       "      <td>0.030863</td>\n",
       "      <td>0.041550</td>\n",
       "      <td>0.071525</td>\n",
       "      <td>0.118588</td>\n",
       "      <td>0.579469</td>\n",
       "    </tr>\n",
       "  </tbody>\n",
       "</table>\n",
       "<p>5 rows × 56 columns</p>\n",
       "</div>"
      ],
      "text/plain": [
       "   label   traj                 time_stamp   coefs_0   coefs_1   coefs_2  \\\n",
       "0      0  32741 2013-04-20 05:09:02.116671 -8.079544 -0.298613  0.018610   \n",
       "1      0  32742 2013-04-20 05:09:06.492507 -8.079544 -0.298613  0.018610   \n",
       "2      0  32743 2013-04-20 05:09:10.868343 -8.079544 -0.298613  0.018610   \n",
       "3      0  32744 2014-05-26 21:35:59.466000 -5.315356 -0.322977  0.039872   \n",
       "4      0  32745 2014-05-26 21:36:03.119319 -5.315356 -0.322977  0.039872   \n",
       "\n",
       "   higher_z  initial_point_x  initial_point_y  final_point_x  ...  coefs_x_2  \\\n",
       "0  0.020802         0.610764         0.102281       0.522912  ...   0.550384   \n",
       "1  0.020802         0.610764         0.102281       0.522912  ...   0.552937   \n",
       "2  0.020802         0.610764         0.102281       0.522912  ...   0.551058   \n",
       "3  0.044778         0.689315         0.012985       0.513822  ...   0.574530   \n",
       "4  0.044778         0.689315         0.012985       0.513822  ...   0.576408   \n",
       "\n",
       "   coefs_y_0  coefs_y_1  coefs_y_2  coefs_z_0  coefs_z_1  coefs_z_2       pos  \\\n",
       "0   0.001547   0.014510   0.087032  -0.028459   0.009857   0.020106  0.032109   \n",
       "1   0.004682   0.011009   0.087594  -0.031394   0.012550   0.020026  0.031809   \n",
       "2   0.002960   0.013039   0.087207  -0.030987   0.012198   0.019904  0.032594   \n",
       "3   0.013452  -0.041563   0.043278  -0.073638   0.035063   0.040767  0.074938   \n",
       "4   0.012462  -0.039958   0.042554  -0.070258   0.030863   0.041550  0.071525   \n",
       "\n",
       "      speed       acc  \n",
       "0  0.076993  0.557585  \n",
       "1  0.062766  0.560190  \n",
       "2  0.071817  0.558271  \n",
       "3  0.122885  0.577598  \n",
       "4  0.118588  0.579469  \n",
       "\n",
       "[5 rows x 56 columns]"
      ]
     },
     "execution_count": 5,
     "metadata": {},
     "output_type": "execute_result"
    }
   ],
   "source": [
    "X_test.head()"
   ]
  },
  {
   "cell_type": "code",
   "execution_count": 6,
   "id": "5f210d3b",
   "metadata": {},
   "outputs": [
    {
     "name": "stdout",
     "output_type": "stream",
     "text": [
      "(8185, 4)\n",
      "Index(['trajectory_ind', 'final_prediction_proba_0',\n",
      "       'final_prediction_proba_1', 'final_prediction_proba_2'],\n",
      "      dtype='object')\n"
     ]
    }
   ],
   "source": [
    "predictions_proba = pd.read_csv('probas_PseudoLabelling.csv')\n",
    "print(predictions_proba.shape)\n",
    "print(predictions_proba.columns)"
   ]
  },
  {
   "cell_type": "code",
   "execution_count": 7,
   "id": "542faeeb",
   "metadata": {},
   "outputs": [],
   "source": [
    "traj_add, label_add = [], []\n",
    "threshold_0, threshold_1, threshold_2 = 0.9, 0.6, 0.9\n",
    "\n",
    "\n",
    "for proba_0, proba_1, proba_2, traj in zip(predictions_proba.final_prediction_proba_0,  \n",
    "                                           predictions_proba.final_prediction_proba_1,  \n",
    "                                           predictions_proba.final_prediction_proba_2, \n",
    "                                           predictions_proba.trajectory_ind):\n",
    "    if proba_0 > threshold_0:\n",
    "        traj_add.append(traj)\n",
    "        label_add.append(0)\n",
    "    if proba_1 > threshold_1:\n",
    "        traj_add.append(traj)\n",
    "        label_add.append(1)\n",
    "    if proba_2 > threshold_2:\n",
    "        traj_add.append(traj)\n",
    "        label_add.append(2)"
   ]
  },
  {
   "cell_type": "code",
   "execution_count": 8,
   "id": "3a2f697d",
   "metadata": {},
   "outputs": [
    {
     "data": {
      "text/plain": [
       "7614"
      ]
     },
     "execution_count": 8,
     "metadata": {},
     "output_type": "execute_result"
    }
   ],
   "source": [
    "len(traj_add)"
   ]
  },
  {
   "cell_type": "code",
   "execution_count": 9,
   "id": "81215cba",
   "metadata": {},
   "outputs": [
    {
     "name": "stdout",
     "output_type": "stream",
     "text": [
      "X_add (7614, 56)\n",
      "X_train_new (40355, 56)\n"
     ]
    },
    {
     "name": "stderr",
     "output_type": "stream",
     "text": [
      "\n",
      "A value is trying to be set on a copy of a slice from a DataFrame.\n",
      "Try using .loc[row_indexer,col_indexer] = value instead\n",
      "\n",
      "See the caveats in the documentation: https://pandas.pydata.org/pandas-docs/stable/user_guide/indexing.html#returning-a-view-versus-a-copy\n"
     ]
    }
   ],
   "source": [
    "X_add = X_test.loc[X_test['traj'].isin(traj_add)]\n",
    "print('X_add', X_add.shape)\n",
    "\n",
    "X_add['label'] = label_add\n",
    "\n",
    "X_train_new = pd.concat([X_train, X_add])\n",
    "print('X_train_new', X_train_new.shape)"
   ]
  },
  {
   "cell_type": "code",
   "execution_count": 10,
   "id": "c0bc7f0d",
   "metadata": {},
   "outputs": [
    {
     "data": {
      "text/html": [
       "<div>\n",
       "<style scoped>\n",
       "    .dataframe tbody tr th:only-of-type {\n",
       "        vertical-align: middle;\n",
       "    }\n",
       "\n",
       "    .dataframe tbody tr th {\n",
       "        vertical-align: top;\n",
       "    }\n",
       "\n",
       "    .dataframe thead th {\n",
       "        text-align: right;\n",
       "    }\n",
       "</style>\n",
       "<table border=\"1\" class=\"dataframe\">\n",
       "  <thead>\n",
       "    <tr style=\"text-align: right;\">\n",
       "      <th></th>\n",
       "      <th>label</th>\n",
       "      <th>traj</th>\n",
       "      <th>time_stamp</th>\n",
       "      <th>coefs_0</th>\n",
       "      <th>coefs_1</th>\n",
       "      <th>coefs_2</th>\n",
       "      <th>higher_z</th>\n",
       "      <th>initial_point_x</th>\n",
       "      <th>initial_point_y</th>\n",
       "      <th>final_point_x</th>\n",
       "      <th>...</th>\n",
       "      <th>coefs_x_2</th>\n",
       "      <th>coefs_y_0</th>\n",
       "      <th>coefs_y_1</th>\n",
       "      <th>coefs_y_2</th>\n",
       "      <th>coefs_z_0</th>\n",
       "      <th>coefs_z_1</th>\n",
       "      <th>coefs_z_2</th>\n",
       "      <th>pos</th>\n",
       "      <th>speed</th>\n",
       "      <th>acc</th>\n",
       "    </tr>\n",
       "  </thead>\n",
       "  <tbody>\n",
       "    <tr>\n",
       "      <th>0</th>\n",
       "      <td>0</td>\n",
       "      <td>32741</td>\n",
       "      <td>2013-04-20 05:09:02.116671</td>\n",
       "      <td>-8.079544</td>\n",
       "      <td>-0.298613</td>\n",
       "      <td>0.018610</td>\n",
       "      <td>0.020802</td>\n",
       "      <td>0.610764</td>\n",
       "      <td>0.102281</td>\n",
       "      <td>0.522912</td>\n",
       "      <td>...</td>\n",
       "      <td>0.550384</td>\n",
       "      <td>0.001547</td>\n",
       "      <td>0.014510</td>\n",
       "      <td>0.087032</td>\n",
       "      <td>-0.028459</td>\n",
       "      <td>0.009857</td>\n",
       "      <td>0.020106</td>\n",
       "      <td>0.032109</td>\n",
       "      <td>0.076993</td>\n",
       "      <td>0.557585</td>\n",
       "    </tr>\n",
       "    <tr>\n",
       "      <th>1</th>\n",
       "      <td>0</td>\n",
       "      <td>32742</td>\n",
       "      <td>2013-04-20 05:09:06.492507</td>\n",
       "      <td>-8.079544</td>\n",
       "      <td>-0.298613</td>\n",
       "      <td>0.018610</td>\n",
       "      <td>0.020802</td>\n",
       "      <td>0.610764</td>\n",
       "      <td>0.102281</td>\n",
       "      <td>0.522912</td>\n",
       "      <td>...</td>\n",
       "      <td>0.552937</td>\n",
       "      <td>0.004682</td>\n",
       "      <td>0.011009</td>\n",
       "      <td>0.087594</td>\n",
       "      <td>-0.031394</td>\n",
       "      <td>0.012550</td>\n",
       "      <td>0.020026</td>\n",
       "      <td>0.031809</td>\n",
       "      <td>0.062766</td>\n",
       "      <td>0.560190</td>\n",
       "    </tr>\n",
       "    <tr>\n",
       "      <th>2</th>\n",
       "      <td>0</td>\n",
       "      <td>32743</td>\n",
       "      <td>2013-04-20 05:09:10.868343</td>\n",
       "      <td>-8.079544</td>\n",
       "      <td>-0.298613</td>\n",
       "      <td>0.018610</td>\n",
       "      <td>0.020802</td>\n",
       "      <td>0.610764</td>\n",
       "      <td>0.102281</td>\n",
       "      <td>0.522912</td>\n",
       "      <td>...</td>\n",
       "      <td>0.551058</td>\n",
       "      <td>0.002960</td>\n",
       "      <td>0.013039</td>\n",
       "      <td>0.087207</td>\n",
       "      <td>-0.030987</td>\n",
       "      <td>0.012198</td>\n",
       "      <td>0.019904</td>\n",
       "      <td>0.032594</td>\n",
       "      <td>0.071817</td>\n",
       "      <td>0.558271</td>\n",
       "    </tr>\n",
       "    <tr>\n",
       "      <th>3</th>\n",
       "      <td>0</td>\n",
       "      <td>32744</td>\n",
       "      <td>2014-05-26 21:35:59.466000</td>\n",
       "      <td>-5.315356</td>\n",
       "      <td>-0.322977</td>\n",
       "      <td>0.039872</td>\n",
       "      <td>0.044778</td>\n",
       "      <td>0.689315</td>\n",
       "      <td>0.012985</td>\n",
       "      <td>0.513822</td>\n",
       "      <td>...</td>\n",
       "      <td>0.574530</td>\n",
       "      <td>0.013452</td>\n",
       "      <td>-0.041563</td>\n",
       "      <td>0.043278</td>\n",
       "      <td>-0.073638</td>\n",
       "      <td>0.035063</td>\n",
       "      <td>0.040767</td>\n",
       "      <td>0.074938</td>\n",
       "      <td>0.122885</td>\n",
       "      <td>0.577598</td>\n",
       "    </tr>\n",
       "    <tr>\n",
       "      <th>4</th>\n",
       "      <td>0</td>\n",
       "      <td>32745</td>\n",
       "      <td>2014-05-26 21:36:03.119319</td>\n",
       "      <td>-5.315356</td>\n",
       "      <td>-0.322977</td>\n",
       "      <td>0.039872</td>\n",
       "      <td>0.044778</td>\n",
       "      <td>0.689315</td>\n",
       "      <td>0.012985</td>\n",
       "      <td>0.513822</td>\n",
       "      <td>...</td>\n",
       "      <td>0.576408</td>\n",
       "      <td>0.012462</td>\n",
       "      <td>-0.039958</td>\n",
       "      <td>0.042554</td>\n",
       "      <td>-0.070258</td>\n",
       "      <td>0.030863</td>\n",
       "      <td>0.041550</td>\n",
       "      <td>0.071525</td>\n",
       "      <td>0.118588</td>\n",
       "      <td>0.579469</td>\n",
       "    </tr>\n",
       "  </tbody>\n",
       "</table>\n",
       "<p>5 rows × 56 columns</p>\n",
       "</div>"
      ],
      "text/plain": [
       "   label   traj                 time_stamp   coefs_0   coefs_1   coefs_2  \\\n",
       "0      0  32741 2013-04-20 05:09:02.116671 -8.079544 -0.298613  0.018610   \n",
       "1      0  32742 2013-04-20 05:09:06.492507 -8.079544 -0.298613  0.018610   \n",
       "2      0  32743 2013-04-20 05:09:10.868343 -8.079544 -0.298613  0.018610   \n",
       "3      0  32744 2014-05-26 21:35:59.466000 -5.315356 -0.322977  0.039872   \n",
       "4      0  32745 2014-05-26 21:36:03.119319 -5.315356 -0.322977  0.039872   \n",
       "\n",
       "   higher_z  initial_point_x  initial_point_y  final_point_x  ...  coefs_x_2  \\\n",
       "0  0.020802         0.610764         0.102281       0.522912  ...   0.550384   \n",
       "1  0.020802         0.610764         0.102281       0.522912  ...   0.552937   \n",
       "2  0.020802         0.610764         0.102281       0.522912  ...   0.551058   \n",
       "3  0.044778         0.689315         0.012985       0.513822  ...   0.574530   \n",
       "4  0.044778         0.689315         0.012985       0.513822  ...   0.576408   \n",
       "\n",
       "   coefs_y_0  coefs_y_1  coefs_y_2  coefs_z_0  coefs_z_1  coefs_z_2       pos  \\\n",
       "0   0.001547   0.014510   0.087032  -0.028459   0.009857   0.020106  0.032109   \n",
       "1   0.004682   0.011009   0.087594  -0.031394   0.012550   0.020026  0.031809   \n",
       "2   0.002960   0.013039   0.087207  -0.030987   0.012198   0.019904  0.032594   \n",
       "3   0.013452  -0.041563   0.043278  -0.073638   0.035063   0.040767  0.074938   \n",
       "4   0.012462  -0.039958   0.042554  -0.070258   0.030863   0.041550  0.071525   \n",
       "\n",
       "      speed       acc  \n",
       "0  0.076993  0.557585  \n",
       "1  0.062766  0.560190  \n",
       "2  0.071817  0.558271  \n",
       "3  0.122885  0.577598  \n",
       "4  0.118588  0.579469  \n",
       "\n",
       "[5 rows x 56 columns]"
      ]
     },
     "execution_count": 10,
     "metadata": {},
     "output_type": "execute_result"
    }
   ],
   "source": [
    "X_test.head()"
   ]
  },
  {
   "cell_type": "code",
   "execution_count": 14,
   "id": "88dd927b",
   "metadata": {},
   "outputs": [
    {
     "data": {
      "image/png": "[encoded data removed]",
      "text/plain": [
       "<Figure size 432x288 with 1 Axes>"
      ]
     },
     "metadata": {
      "needs_background": "light"
     },
     "output_type": "display_data"
    }
   ],
   "source": [
    "plt.figure()\n",
    "plt.hist(X_add.label)\n",
    "plt.show()"
   ]
  },
  {
   "cell_type": "code",
   "execution_count": 15,
   "id": "4cd6f3f9",
   "metadata": {},
   "outputs": [],
   "source": [
    "y_train_new = X_train_new['label']\n",
    "X_train_new = X_train_new.drop(columns=['label', 'time_stamp', 'traj'])\n",
    "\n",
    "X_train_new = X_train_new.fillna(X_train_new.median())\n",
    "\n",
    "scaler = MinMaxScaler()\n",
    "scaler.fit(X_train_new)\n",
    "X_train_new = scaler.transform(X_train_new)"
   ]
  },
  {
   "cell_type": "code",
   "execution_count": 16,
   "id": "ca8ed67f",
   "metadata": {},
   "outputs": [],
   "source": [
    "class_weight = {0: 0.3, 1: 3, 2: 2}"
   ]
  },
  {
   "cell_type": "code",
   "execution_count": 17,
   "id": "0f8b5201",
   "metadata": {},
   "outputs": [
    {
     "name": "stdout",
     "output_type": "stream",
     "text": [
      "Fitting 3 folds for each of 50 candidates, totalling 150 fits\n"
     ]
    }
   ],
   "source": [
    "ml_model = Model(model_name=\"time_series_4_\" + str(ModelsEnum.Xgboost), classifier_method=ModelsEnum.Xgboost, \n",
    "                 verbose=True, binary_task=False,  write_csv=True, class_weight=class_weight)\n",
    "\n",
    "trained_model, results_train = ml_model.cross_fold_validation(X_train_new, y_train_new, grid_search=False, cv=3, \n",
    "                                                              n_iter=50, scoring=make_scorer(min_acc), n_jobs=2)"
   ]
  },
  {
   "cell_type": "markdown",
   "id": "32831f06",
   "metadata": {},
   "source": [
    "## Check output"
   ]
  },
  {
   "cell_type": "code",
   "execution_count": 18,
   "id": "c744e640",
   "metadata": {},
   "outputs": [
    {
     "name": "stdout",
     "output_type": "stream",
     "text": [
      "{'accuracy': [0.9999504398463636], 'f1_': [0.9998541596812336], 'jaccard': [0.9999008846049012], 'recall': [0.9999504398463636], 'min_acc': [0.9993211133740665], 'acc_0': [1.0], 'acc_1': [1.0], 'acc_2': [0.9993211133740665]}\n"
     ]
    },
    {
     "name": "stderr",
     "output_type": "stream",
     "text": [
      "Use subset (sliced data) of np.ndarray is not recommended because it will generate extra copies and increase memory consumption\n"
     ]
    }
   ],
   "source": [
    "results_dict = ml_model.test_set(X_train_new, y_train_new)"
   ]
  },
  {
   "cell_type": "code",
   "execution_count": null,
   "id": "674f9439",
   "metadata": {},
   "outputs": [],
   "source": [
    "results_dict = ml_model.test_set(X_train_new, y_train_new)"
   ]
  },
  {
   "cell_type": "markdown",
   "id": "d4746efc",
   "metadata": {},
   "source": [
    "## Test set"
   ]
  },
  {
   "cell_type": "code",
   "execution_count": 19,
   "id": "1197e3c1",
   "metadata": {},
   "outputs": [],
   "source": [
    "X_test = pd.read_csv(os.path.join('data_csv', 'features_test.csv'))"
   ]
  },
  {
   "cell_type": "code",
   "execution_count": 20,
   "id": "13ba7441",
   "metadata": {},
   "outputs": [],
   "source": [
    "traj = X_test['traj'].values"
   ]
  },
  {
   "cell_type": "code",
   "execution_count": 21,
   "id": "49976fe6",
   "metadata": {},
   "outputs": [],
   "source": [
    "X_test = X_test.drop(columns=['label', 'time_stamp', 'traj'])\n",
    "X_test = X_test.fillna(X_test.median())\n",
    "X_test = scaler.transform(X_test)"
   ]
  },
  {
   "cell_type": "code",
   "execution_count": 22,
   "id": "9f95fa6b",
   "metadata": {},
   "outputs": [
    {
     "name": "stderr",
     "output_type": "stream",
     "text": [
      "Use subset (sliced data) of np.ndarray is not recommended because it will generate extra copies and increase memory consumption\n"
     ]
    }
   ],
   "source": [
    "final_prediction = trained_model.predict(X_test)"
   ]
  },
  {
   "cell_type": "code",
   "execution_count": 23,
   "id": "baa55b70",
   "metadata": {},
   "outputs": [],
   "source": [
    "test_predictions = pd.DataFrame({\n",
    "        'trajectory_ind': traj,\n",
    "        'label': final_prediction\n",
    "    })\n",
    "test_predictions.to_csv('submission_5.csv', index=False)"
   ]
  },
  {
   "cell_type": "markdown",
   "id": "c8057257",
   "metadata": {},
   "source": [
    "## Check submission"
   ]
  },
  {
   "cell_type": "code",
   "execution_count": 36,
   "id": "f8c69742",
   "metadata": {},
   "outputs": [],
   "source": [
    "submission_3 = pd.read_csv('submission_3_EnsembleLearning.csv')"
   ]
  },
  {
   "cell_type": "code",
   "execution_count": 37,
   "id": "e416a758",
   "metadata": {},
   "outputs": [],
   "source": [
    "submission_5 = pd.read_csv('submission_5.csv')"
   ]
  },
  {
   "cell_type": "code",
   "execution_count": 38,
   "id": "0ca7701c",
   "metadata": {},
   "outputs": [],
   "source": [
    "y_test = submission_3.label\n",
    "y_pred = submission_5.label"
   ]
  },
  {
   "cell_type": "code",
   "execution_count": 39,
   "id": "5816a095",
   "metadata": {},
   "outputs": [],
   "source": [
    "from sklearn import neighbors, svm, metrics\n",
    "\n",
    "y_true_0 = y_test[y_test == 0]\n",
    "y_pred_0 = y_pred[y_test == 0]\n",
    "\n",
    "y_true_1 = y_test[y_test == 1]\n",
    "y_pred_1 = y_pred[y_test == 1]\n",
    "\n",
    "y_true_2 = y_test[y_test == 2]\n",
    "y_pred_2 = y_pred[y_test == 2]\n",
    "\n",
    "acc_0 = metrics.accuracy_score(y_true_0, y_pred_0)\n",
    "acc_1 = metrics.accuracy_score(y_true_1, y_pred_1)\n",
    "acc_2 = metrics.accuracy_score(y_true_2, y_pred_2)\n",
    "\n",
    "results_dict = {\n",
    "    \"accuracy\": [metrics.accuracy_score(y_test, y_pred)],\n",
    "    'min_acc': [min_acc(y_test, y_pred)],\n",
    "    'acc_0': [acc_0],\n",
    "    'acc_1': [acc_1],\n",
    "    'acc_2': [acc_2],\n",
    "}"
   ]
  },
  {
   "cell_type": "code",
   "execution_count": 40,
   "id": "8fdbfb66",
   "metadata": {},
   "outputs": [
    {
     "data": {
      "text/plain": [
       "{'accuracy': [0.9879047037263287],\n",
       " 'min_acc': [0.9753846153846154],\n",
       " 'acc_0': [0.9901753034097477],\n",
       " 'acc_1': [0.9863481228668942],\n",
       " 'acc_2': [0.9753846153846154]}"
      ]
     },
     "execution_count": 40,
     "metadata": {},
     "output_type": "execute_result"
    }
   ],
   "source": [
    "results_dict"
   ]
  },
  {
   "cell_type": "code",
   "execution_count": 41,
   "id": "3760ad09",
   "metadata": {},
   "outputs": [
    {
     "data": {
      "image/png": "[encoded data removed]",
      "text/plain": [
       "<Figure size 432x288 with 1 Axes>"
      ]
     },
     "metadata": {
      "needs_background": "light"
     },
     "output_type": "display_data"
    }
   ],
   "source": [
    "plt.figure()\n",
    "plt.hist(y_test)\n",
    "plt.show()"
   ]
  },
  {
   "cell_type": "code",
   "execution_count": 43,
   "id": "a98d62ff",
   "metadata": {},
   "outputs": [
    {
     "data": {
      "image/png": "[encoded data removed]",
      "text/plain": [
       "<Figure size 432x288 with 1 Axes>"
      ]
     },
     "metadata": {
      "needs_background": "light"
     },
     "output_type": "display_data"
    }
   ],
   "source": [
    "plt.figure()\n",
    "plt.hist(y_pred)\n",
    "plt.show()"
   ]
  },
  {
   "cell_type": "code",
   "execution_count": 44,
   "id": "69b3283f",
   "metadata": {},
   "outputs": [
    {
     "name": "stdout",
     "output_type": "stream",
     "text": [
      "5191\n",
      "2344\n",
      "650\n"
     ]
    }
   ],
   "source": [
    "arr_0 = (y_test == 0)\n",
    "arr_1 = (y_test == 1)\n",
    "arr_2 = (y_test == 2)\n",
    "\n",
    "print(sum(arr_0))\n",
    "print(sum(arr_1))\n",
    "print(sum(arr_2))"
   ]
  },
  {
   "cell_type": "code",
   "execution_count": 45,
   "id": "851a14a8",
   "metadata": {},
   "outputs": [
    {
     "name": "stdout",
     "output_type": "stream",
     "text": [
      "5172\n",
      "2379\n",
      "634\n"
     ]
    }
   ],
   "source": [
    "arr_0 = (y_pred == 0)\n",
    "arr_1 = (y_pred == 1)\n",
    "arr_2 = (y_pred == 2)\n",
    "\n",
    "print(sum(arr_0))\n",
    "print(sum(arr_1))\n",
    "print(sum(arr_2))"
   ]
  },
  {
   "cell_type": "code",
   "execution_count": null,
   "id": "e989475e",
   "metadata": {},
   "outputs": [],
   "source": []
  }
 ],
 "metadata": {
  "kernelspec": {
   "display_name": "Python 3",
   "language": "python",
   "name": "python3"
  },
  "language_info": {
   "codemirror_mode": {
    "name": "ipython",
    "version": 3
   },
   "file_extension": ".py",
   "mimetype": "text/x-python",
   "name": "python",
   "nbconvert_exporter": "python",
   "pygments_lexer": "ipython3",
   "version": "3.8.8"
  }
 },
 "nbformat": 4,
 "nbformat_minor": 5
}
