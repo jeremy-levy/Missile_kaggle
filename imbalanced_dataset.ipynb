{
 "cells": [
  {
   "cell_type": "markdown",
   "id": "91062992",
   "metadata": {},
   "source": [
    "## Score function"
   ]
  },
  {
   "cell_type": "code",
   "execution_count": 1,
   "id": "c3769da9",
   "metadata": {},
   "outputs": [],
   "source": [
    "from tsfresh.examples import load_robot_execution_failures\n",
    "import pandas as pd\n",
    "import tsfresh\n",
    "import matplotlib.pyplot as plt\n",
    "\n",
    "from sklearn import neighbors, svm, metrics\n",
    "from sklearn.preprocessing import Normalizer\n",
    "from sklearn.cluster import KMeans\n",
    "from sklearn.preprocessing import PolynomialFeatures\n",
    "from sklearn.ensemble import RandomForestClassifier\n",
    "from sklearn.linear_model import LinearRegression\n",
    "from sklearn.cluster import KMeans\n",
    "\n",
    "from tqdm import tqdm\n",
    "\n",
    "from utils.help_classes import ModelsEnum\n",
    "from sklearn.model_selection import train_test_split\n",
    "import os\n",
    "import datetime\n",
    "\n",
    "import pickle\n",
    "import numpy as np\n",
    "import category_encoders as ce\n",
    "import plotly_express as px\n",
    "from sklearn.decomposition import PCA\n",
    "\n",
    "from numpy.linalg import LinAlgError"
   ]
  },
  {
   "cell_type": "code",
   "execution_count": 15,
   "id": "4569f2fe",
   "metadata": {},
   "outputs": [],
   "source": [
    "def min_acc(y_true, y_pred):\n",
    "    y_true_0 = y_true[y_true == 0]\n",
    "    y_pred_0 = y_pred[y_true == 0]\n",
    "    \n",
    "    y_true_1 = y_true[y_true == 1]\n",
    "    y_pred_1 = y_pred[y_true == 1]\n",
    "    \n",
    "    y_true_2 = y_true[y_true == 2]\n",
    "    y_pred_2 = y_pred[y_true == 2]\n",
    "    \n",
    "    acc_0 = metrics.accuracy_score(y_true_0, y_pred_0)\n",
    "    acc_1 = metrics.accuracy_score(y_true_1, y_pred_1)\n",
    "    acc_2 = metrics.accuracy_score(y_true_2, y_pred_2)\n",
    "    \n",
    "    return min(acc_0, acc_1, acc_2)"
   ]
  },
  {
   "cell_type": "code",
   "execution_count": 9,
   "id": "1ea23472",
   "metadata": {},
   "outputs": [],
   "source": [
    "y_true = np.array([0, 0, 0, 1, 1, 1, 2, 2, 2])\n",
    "y_pred = np.array([1, 2, 1, 1, 1, 1, 2, 1, 2])"
   ]
  },
  {
   "cell_type": "code",
   "execution_count": 16,
   "id": "38201428",
   "metadata": {},
   "outputs": [
    {
     "data": {
      "text/plain": [
       "0.0"
      ]
     },
     "execution_count": 16,
     "metadata": {},
     "output_type": "execute_result"
    }
   ],
   "source": [
    "min_acc(y_true, y_pred)"
   ]
  },
  {
   "cell_type": "markdown",
   "id": "76cd04a9",
   "metadata": {},
   "source": [
    "## Split data"
   ]
  },
  {
   "cell_type": "code",
   "execution_count": 3,
   "id": "30948b44",
   "metadata": {},
   "outputs": [
    {
     "name": "stdout",
     "output_type": "stream",
     "text": [
      "X (32741, 1397)\n",
      "X_train (877, 1397)\n",
      "X_val (220, 1397)\n"
     ]
    }
   ],
   "source": [
    "X = pd.read_csv(os.path.join('data_csv', 'train_all.csv'))\n",
    "print('X', X.shape)\n",
    "\n",
    "X['time_stamp'] = pd.to_datetime(X['time_stamp'])\n",
    "X_train = X.loc[X['time_stamp'] < X['time_stamp'].quantile(q=0.8)]\n",
    "X_val = X.loc[X['time_stamp'] >= X['time_stamp'].quantile(q=0.8)]\n",
    "\n",
    "print('X_train', X_train.shape)\n",
    "print('X_val', X_val.shape)"
   ]
  },
  {
   "cell_type": "code",
   "execution_count": 6,
   "id": "ca1a1643",
   "metadata": {},
   "outputs": [
    {
     "data": {
      "text/html": [
       "<div>\n",
       "<style scoped>\n",
       "    .dataframe tbody tr th:only-of-type {\n",
       "        vertical-align: middle;\n",
       "    }\n",
       "\n",
       "    .dataframe tbody tr th {\n",
       "        vertical-align: top;\n",
       "    }\n",
       "\n",
       "    .dataframe thead th {\n",
       "        text-align: right;\n",
       "    }\n",
       "</style>\n",
       "<table border=\"1\" class=\"dataframe\">\n",
       "  <thead>\n",
       "    <tr style=\"text-align: right;\">\n",
       "      <th></th>\n",
       "      <th>time_stamp</th>\n",
       "      <th>traj</th>\n",
       "    </tr>\n",
       "  </thead>\n",
       "  <tbody>\n",
       "    <tr>\n",
       "      <th>0</th>\n",
       "      <td>2015-12-29 14:50:34.045</td>\n",
       "      <td>0.0</td>\n",
       "    </tr>\n",
       "    <tr>\n",
       "      <th>1</th>\n",
       "      <td>NaT</td>\n",
       "      <td>NaN</td>\n",
       "    </tr>\n",
       "    <tr>\n",
       "      <th>2</th>\n",
       "      <td>NaT</td>\n",
       "      <td>NaN</td>\n",
       "    </tr>\n",
       "    <tr>\n",
       "      <th>3</th>\n",
       "      <td>NaT</td>\n",
       "      <td>NaN</td>\n",
       "    </tr>\n",
       "    <tr>\n",
       "      <th>4</th>\n",
       "      <td>NaT</td>\n",
       "      <td>NaN</td>\n",
       "    </tr>\n",
       "    <tr>\n",
       "      <th>...</th>\n",
       "      <td>...</td>\n",
       "      <td>...</td>\n",
       "    </tr>\n",
       "    <tr>\n",
       "      <th>32736</th>\n",
       "      <td>NaT</td>\n",
       "      <td>NaN</td>\n",
       "    </tr>\n",
       "    <tr>\n",
       "      <th>32737</th>\n",
       "      <td>NaT</td>\n",
       "      <td>NaN</td>\n",
       "    </tr>\n",
       "    <tr>\n",
       "      <th>32738</th>\n",
       "      <td>NaT</td>\n",
       "      <td>NaN</td>\n",
       "    </tr>\n",
       "    <tr>\n",
       "      <th>32739</th>\n",
       "      <td>NaT</td>\n",
       "      <td>NaN</td>\n",
       "    </tr>\n",
       "    <tr>\n",
       "      <th>32740</th>\n",
       "      <td>NaT</td>\n",
       "      <td>NaN</td>\n",
       "    </tr>\n",
       "  </tbody>\n",
       "</table>\n",
       "<p>32741 rows × 2 columns</p>\n",
       "</div>"
      ],
      "text/plain": [
       "                   time_stamp  traj\n",
       "0     2015-12-29 14:50:34.045   0.0\n",
       "1                         NaT   NaN\n",
       "2                         NaT   NaN\n",
       "3                         NaT   NaN\n",
       "4                         NaT   NaN\n",
       "...                       ...   ...\n",
       "32736                     NaT   NaN\n",
       "32737                     NaT   NaN\n",
       "32738                     NaT   NaN\n",
       "32739                     NaT   NaN\n",
       "32740                     NaT   NaN\n",
       "\n",
       "[32741 rows x 2 columns]"
      ]
     },
     "execution_count": 6,
     "metadata": {},
     "output_type": "execute_result"
    }
   ],
   "source": [
    "X[['time_stamp', 'traj']]"
   ]
  },
  {
   "cell_type": "code",
   "execution_count": 7,
   "id": "83bf392b",
   "metadata": {},
   "outputs": [],
   "source": [
    "X_tsfresh = pd.read_csv(os.path.join('data_csv', 'train_tsfresh_FS.csv'))"
   ]
  },
  {
   "cell_type": "code",
   "execution_count": 8,
   "id": "2df86ea2",
   "metadata": {},
   "outputs": [
    {
     "data": {
      "text/plain": [
       "(32741, 1374)"
      ]
     },
     "execution_count": 8,
     "metadata": {},
     "output_type": "execute_result"
    }
   ],
   "source": [
    "X_tsfresh.shape"
   ]
  },
  {
   "cell_type": "code",
   "execution_count": 11,
   "id": "717c2bb4",
   "metadata": {},
   "outputs": [
    {
     "data": {
      "text/plain": [
       "Index(['Unnamed: 0', 'z__quantile__q_0.9',\n",
       "       'x__cwt_coefficients__coeff_11__w_20__widths_(2, 5, 10, 20)',\n",
       "       'z__variation_coefficient',\n",
       "       'x__cwt_coefficients__coeff_12__w_5__widths_(2, 5, 10, 20)',\n",
       "       'x__cwt_coefficients__coeff_12__w_10__widths_(2, 5, 10, 20)',\n",
       "       'x__cwt_coefficients__coeff_12__w_20__widths_(2, 5, 10, 20)',\n",
       "       'x__cwt_coefficients__coeff_13__w_5__widths_(2, 5, 10, 20)',\n",
       "       'x__cwt_coefficients__coeff_13__w_10__widths_(2, 5, 10, 20)',\n",
       "       'x__cwt_coefficients__coeff_13__w_20__widths_(2, 5, 10, 20)',\n",
       "       ...\n",
       "       'y__fft_coefficient__attr_\"imag\"__coeff_21',\n",
       "       'z__agg_linear_trend__attr_\"slope\"__chunk_len_50__f_agg_\"var\"',\n",
       "       'z__fft_coefficient__attr_\"real\"__coeff_8',\n",
       "       'z__agg_linear_trend__attr_\"rvalue\"__chunk_len_50__f_agg_\"max\"',\n",
       "       'y__fft_coefficient__attr_\"imag\"__coeff_37',\n",
       "       'y__fft_coefficient__attr_\"real\"__coeff_23',\n",
       "       'y__matrix_profile__feature_\"mean\"__threshold_0.98',\n",
       "       'y__fft_coefficient__attr_\"imag\"__coeff_32',\n",
       "       'y__number_crossing_m__m_-1', 'traj'],\n",
       "      dtype='object', length=1374)"
      ]
     },
     "execution_count": 11,
     "metadata": {},
     "output_type": "execute_result"
    }
   ],
   "source": [
    "X_tsfresh.columns"
   ]
  },
  {
   "cell_type": "code",
   "execution_count": 13,
   "id": "cd183389",
   "metadata": {},
   "outputs": [
    {
     "data": {
      "text/html": [
       "<div>\n",
       "<style scoped>\n",
       "    .dataframe tbody tr th:only-of-type {\n",
       "        vertical-align: middle;\n",
       "    }\n",
       "\n",
       "    .dataframe tbody tr th {\n",
       "        vertical-align: top;\n",
       "    }\n",
       "\n",
       "    .dataframe thead th {\n",
       "        text-align: right;\n",
       "    }\n",
       "</style>\n",
       "<table border=\"1\" class=\"dataframe\">\n",
       "  <thead>\n",
       "    <tr style=\"text-align: right;\">\n",
       "      <th></th>\n",
       "      <th>Unnamed: 0</th>\n",
       "      <th>z__quantile__q_0.9</th>\n",
       "      <th>x__cwt_coefficients__coeff_11__w_20__widths_(2, 5, 10, 20)</th>\n",
       "      <th>z__variation_coefficient</th>\n",
       "      <th>x__cwt_coefficients__coeff_12__w_5__widths_(2, 5, 10, 20)</th>\n",
       "      <th>x__cwt_coefficients__coeff_12__w_10__widths_(2, 5, 10, 20)</th>\n",
       "      <th>x__cwt_coefficients__coeff_12__w_20__widths_(2, 5, 10, 20)</th>\n",
       "      <th>x__cwt_coefficients__coeff_13__w_5__widths_(2, 5, 10, 20)</th>\n",
       "      <th>x__cwt_coefficients__coeff_13__w_10__widths_(2, 5, 10, 20)</th>\n",
       "      <th>x__cwt_coefficients__coeff_13__w_20__widths_(2, 5, 10, 20)</th>\n",
       "      <th>...</th>\n",
       "      <th>y__fft_coefficient__attr_\"imag\"__coeff_21</th>\n",
       "      <th>z__agg_linear_trend__attr_\"slope\"__chunk_len_50__f_agg_\"var\"</th>\n",
       "      <th>z__fft_coefficient__attr_\"real\"__coeff_8</th>\n",
       "      <th>z__agg_linear_trend__attr_\"rvalue\"__chunk_len_50__f_agg_\"max\"</th>\n",
       "      <th>y__fft_coefficient__attr_\"imag\"__coeff_37</th>\n",
       "      <th>y__fft_coefficient__attr_\"real\"__coeff_23</th>\n",
       "      <th>y__matrix_profile__feature_\"mean\"__threshold_0.98</th>\n",
       "      <th>y__fft_coefficient__attr_\"imag\"__coeff_32</th>\n",
       "      <th>y__number_crossing_m__m_-1</th>\n",
       "      <th>traj</th>\n",
       "    </tr>\n",
       "  </thead>\n",
       "  <tbody>\n",
       "    <tr>\n",
       "      <th>0</th>\n",
       "      <td>0</td>\n",
       "      <td>0.077065</td>\n",
       "      <td>3.236436</td>\n",
       "      <td>0.285983</td>\n",
       "      <td>0.201323</td>\n",
       "      <td>2.242043</td>\n",
       "      <td>3.312635</td>\n",
       "      <td>0.138610</td>\n",
       "      <td>2.169701</td>\n",
       "      <td>3.378271</td>\n",
       "      <td>...</td>\n",
       "      <td>0.0</td>\n",
       "      <td>-0.000449</td>\n",
       "      <td>0.018613</td>\n",
       "      <td>-1.0</td>\n",
       "      <td>0.0</td>\n",
       "      <td>-0.01291</td>\n",
       "      <td>0.004533</td>\n",
       "      <td>0.0</td>\n",
       "      <td>0.0</td>\n",
       "      <td>0.0</td>\n",
       "    </tr>\n",
       "    <tr>\n",
       "      <th>1</th>\n",
       "      <td>1</td>\n",
       "      <td>0.077065</td>\n",
       "      <td>3.236436</td>\n",
       "      <td>0.285983</td>\n",
       "      <td>0.201323</td>\n",
       "      <td>2.242043</td>\n",
       "      <td>3.312635</td>\n",
       "      <td>0.138610</td>\n",
       "      <td>2.169701</td>\n",
       "      <td>3.378271</td>\n",
       "      <td>...</td>\n",
       "      <td>0.0</td>\n",
       "      <td>-0.000449</td>\n",
       "      <td>0.018613</td>\n",
       "      <td>-1.0</td>\n",
       "      <td>0.0</td>\n",
       "      <td>-0.01291</td>\n",
       "      <td>0.004533</td>\n",
       "      <td>0.0</td>\n",
       "      <td>0.0</td>\n",
       "      <td>NaN</td>\n",
       "    </tr>\n",
       "    <tr>\n",
       "      <th>2</th>\n",
       "      <td>2</td>\n",
       "      <td>0.077065</td>\n",
       "      <td>3.236436</td>\n",
       "      <td>0.285983</td>\n",
       "      <td>0.201323</td>\n",
       "      <td>2.242043</td>\n",
       "      <td>3.312635</td>\n",
       "      <td>0.138610</td>\n",
       "      <td>2.169701</td>\n",
       "      <td>3.378271</td>\n",
       "      <td>...</td>\n",
       "      <td>0.0</td>\n",
       "      <td>-0.000449</td>\n",
       "      <td>0.018613</td>\n",
       "      <td>-1.0</td>\n",
       "      <td>0.0</td>\n",
       "      <td>-0.01291</td>\n",
       "      <td>0.004533</td>\n",
       "      <td>0.0</td>\n",
       "      <td>0.0</td>\n",
       "      <td>NaN</td>\n",
       "    </tr>\n",
       "    <tr>\n",
       "      <th>3</th>\n",
       "      <td>3</td>\n",
       "      <td>0.077065</td>\n",
       "      <td>3.236436</td>\n",
       "      <td>0.285983</td>\n",
       "      <td>0.201323</td>\n",
       "      <td>2.242043</td>\n",
       "      <td>3.312635</td>\n",
       "      <td>0.138610</td>\n",
       "      <td>2.169701</td>\n",
       "      <td>3.378271</td>\n",
       "      <td>...</td>\n",
       "      <td>0.0</td>\n",
       "      <td>-0.000449</td>\n",
       "      <td>0.018613</td>\n",
       "      <td>-1.0</td>\n",
       "      <td>0.0</td>\n",
       "      <td>-0.01291</td>\n",
       "      <td>0.004533</td>\n",
       "      <td>0.0</td>\n",
       "      <td>0.0</td>\n",
       "      <td>NaN</td>\n",
       "    </tr>\n",
       "    <tr>\n",
       "      <th>4</th>\n",
       "      <td>4</td>\n",
       "      <td>0.085593</td>\n",
       "      <td>2.079740</td>\n",
       "      <td>0.092843</td>\n",
       "      <td>1.887449</td>\n",
       "      <td>2.292955</td>\n",
       "      <td>1.892726</td>\n",
       "      <td>1.578782</td>\n",
       "      <td>2.032089</td>\n",
       "      <td>1.700785</td>\n",
       "      <td>...</td>\n",
       "      <td>0.0</td>\n",
       "      <td>-0.000449</td>\n",
       "      <td>0.017773</td>\n",
       "      <td>-1.0</td>\n",
       "      <td>0.0</td>\n",
       "      <td>-0.01291</td>\n",
       "      <td>2.283463</td>\n",
       "      <td>0.0</td>\n",
       "      <td>0.0</td>\n",
       "      <td>NaN</td>\n",
       "    </tr>\n",
       "  </tbody>\n",
       "</table>\n",
       "<p>5 rows × 1374 columns</p>\n",
       "</div>"
      ],
      "text/plain": [
       "   Unnamed: 0  z__quantile__q_0.9  \\\n",
       "0           0            0.077065   \n",
       "1           1            0.077065   \n",
       "2           2            0.077065   \n",
       "3           3            0.077065   \n",
       "4           4            0.085593   \n",
       "\n",
       "   x__cwt_coefficients__coeff_11__w_20__widths_(2, 5, 10, 20)  \\\n",
       "0                                           3.236436            \n",
       "1                                           3.236436            \n",
       "2                                           3.236436            \n",
       "3                                           3.236436            \n",
       "4                                           2.079740            \n",
       "\n",
       "   z__variation_coefficient  \\\n",
       "0                  0.285983   \n",
       "1                  0.285983   \n",
       "2                  0.285983   \n",
       "3                  0.285983   \n",
       "4                  0.092843   \n",
       "\n",
       "   x__cwt_coefficients__coeff_12__w_5__widths_(2, 5, 10, 20)  \\\n",
       "0                                           0.201323           \n",
       "1                                           0.201323           \n",
       "2                                           0.201323           \n",
       "3                                           0.201323           \n",
       "4                                           1.887449           \n",
       "\n",
       "   x__cwt_coefficients__coeff_12__w_10__widths_(2, 5, 10, 20)  \\\n",
       "0                                           2.242043            \n",
       "1                                           2.242043            \n",
       "2                                           2.242043            \n",
       "3                                           2.242043            \n",
       "4                                           2.292955            \n",
       "\n",
       "   x__cwt_coefficients__coeff_12__w_20__widths_(2, 5, 10, 20)  \\\n",
       "0                                           3.312635            \n",
       "1                                           3.312635            \n",
       "2                                           3.312635            \n",
       "3                                           3.312635            \n",
       "4                                           1.892726            \n",
       "\n",
       "   x__cwt_coefficients__coeff_13__w_5__widths_(2, 5, 10, 20)  \\\n",
       "0                                           0.138610           \n",
       "1                                           0.138610           \n",
       "2                                           0.138610           \n",
       "3                                           0.138610           \n",
       "4                                           1.578782           \n",
       "\n",
       "   x__cwt_coefficients__coeff_13__w_10__widths_(2, 5, 10, 20)  \\\n",
       "0                                           2.169701            \n",
       "1                                           2.169701            \n",
       "2                                           2.169701            \n",
       "3                                           2.169701            \n",
       "4                                           2.032089            \n",
       "\n",
       "   x__cwt_coefficients__coeff_13__w_20__widths_(2, 5, 10, 20)  ...  \\\n",
       "0                                           3.378271           ...   \n",
       "1                                           3.378271           ...   \n",
       "2                                           3.378271           ...   \n",
       "3                                           3.378271           ...   \n",
       "4                                           1.700785           ...   \n",
       "\n",
       "   y__fft_coefficient__attr_\"imag\"__coeff_21  \\\n",
       "0                                        0.0   \n",
       "1                                        0.0   \n",
       "2                                        0.0   \n",
       "3                                        0.0   \n",
       "4                                        0.0   \n",
       "\n",
       "   z__agg_linear_trend__attr_\"slope\"__chunk_len_50__f_agg_\"var\"  \\\n",
       "0                                          -0.000449              \n",
       "1                                          -0.000449              \n",
       "2                                          -0.000449              \n",
       "3                                          -0.000449              \n",
       "4                                          -0.000449              \n",
       "\n",
       "   z__fft_coefficient__attr_\"real\"__coeff_8  \\\n",
       "0                                  0.018613   \n",
       "1                                  0.018613   \n",
       "2                                  0.018613   \n",
       "3                                  0.018613   \n",
       "4                                  0.017773   \n",
       "\n",
       "   z__agg_linear_trend__attr_\"rvalue\"__chunk_len_50__f_agg_\"max\"  \\\n",
       "0                                               -1.0               \n",
       "1                                               -1.0               \n",
       "2                                               -1.0               \n",
       "3                                               -1.0               \n",
       "4                                               -1.0               \n",
       "\n",
       "   y__fft_coefficient__attr_\"imag\"__coeff_37  \\\n",
       "0                                        0.0   \n",
       "1                                        0.0   \n",
       "2                                        0.0   \n",
       "3                                        0.0   \n",
       "4                                        0.0   \n",
       "\n",
       "   y__fft_coefficient__attr_\"real\"__coeff_23  \\\n",
       "0                                   -0.01291   \n",
       "1                                   -0.01291   \n",
       "2                                   -0.01291   \n",
       "3                                   -0.01291   \n",
       "4                                   -0.01291   \n",
       "\n",
       "   y__matrix_profile__feature_\"mean\"__threshold_0.98  \\\n",
       "0                                           0.004533   \n",
       "1                                           0.004533   \n",
       "2                                           0.004533   \n",
       "3                                           0.004533   \n",
       "4                                           2.283463   \n",
       "\n",
       "   y__fft_coefficient__attr_\"imag\"__coeff_32  y__number_crossing_m__m_-1  traj  \n",
       "0                                        0.0                         0.0   0.0  \n",
       "1                                        0.0                         0.0   NaN  \n",
       "2                                        0.0                         0.0   NaN  \n",
       "3                                        0.0                         0.0   NaN  \n",
       "4                                        0.0                         0.0   NaN  \n",
       "\n",
       "[5 rows x 1374 columns]"
      ]
     },
     "execution_count": 13,
     "metadata": {},
     "output_type": "execute_result"
    }
   ],
   "source": [
    "X_tsfresh.head()"
   ]
  },
  {
   "cell_type": "code",
   "execution_count": 14,
   "id": "b3a0a778",
   "metadata": {},
   "outputs": [],
   "source": [
    "X_mine = pd.read_csv(os.path.join('data_csv', 'features_train.csv'))"
   ]
  },
  {
   "cell_type": "code",
   "execution_count": 15,
   "id": "e0d77460",
   "metadata": {},
   "outputs": [
    {
     "data": {
      "text/plain": [
       "(32741, 23)"
      ]
     },
     "execution_count": 15,
     "metadata": {},
     "output_type": "execute_result"
    }
   ],
   "source": [
    "X_mine.shape"
   ]
  },
  {
   "cell_type": "code",
   "execution_count": 16,
   "id": "cbf540ce",
   "metadata": {},
   "outputs": [
    {
     "data": {
      "text/html": [
       "<div>\n",
       "<style scoped>\n",
       "    .dataframe tbody tr th:only-of-type {\n",
       "        vertical-align: middle;\n",
       "    }\n",
       "\n",
       "    .dataframe tbody tr th {\n",
       "        vertical-align: top;\n",
       "    }\n",
       "\n",
       "    .dataframe thead th {\n",
       "        text-align: right;\n",
       "    }\n",
       "</style>\n",
       "<table border=\"1\" class=\"dataframe\">\n",
       "  <thead>\n",
       "    <tr style=\"text-align: right;\">\n",
       "      <th></th>\n",
       "      <th>label</th>\n",
       "      <th>traj</th>\n",
       "      <th>time_stamp</th>\n",
       "      <th>coefs_0</th>\n",
       "      <th>coefs_1</th>\n",
       "      <th>coefs_2</th>\n",
       "      <th>higher_z</th>\n",
       "      <th>initial_point_x</th>\n",
       "      <th>initial_point_y</th>\n",
       "      <th>nb_samples</th>\n",
       "      <th>...</th>\n",
       "      <th>mean_speed</th>\n",
       "      <th>q25_speed</th>\n",
       "      <th>q75_speed</th>\n",
       "      <th>median_speed</th>\n",
       "      <th>max_acc</th>\n",
       "      <th>min_acc</th>\n",
       "      <th>mean_acc</th>\n",
       "      <th>q25_acc</th>\n",
       "      <th>q75_acc</th>\n",
       "      <th>median_acc</th>\n",
       "    </tr>\n",
       "  </thead>\n",
       "  <tbody>\n",
       "    <tr>\n",
       "      <th>0</th>\n",
       "      <td>1</td>\n",
       "      <td>0</td>\n",
       "      <td>2015-12-29 14:50:34.045000</td>\n",
       "      <td>-1.825034</td>\n",
       "      <td>-0.203164</td>\n",
       "      <td>0.071941</td>\n",
       "      <td>0.077547</td>\n",
       "      <td>0.750917</td>\n",
       "      <td>-0.234958</td>\n",
       "      <td>31</td>\n",
       "      <td>...</td>\n",
       "      <td>1.801785e-07</td>\n",
       "      <td>1.679913e-07</td>\n",
       "      <td>1.823022e-07</td>\n",
       "      <td>1.729120e-07</td>\n",
       "      <td>8.148540e-08</td>\n",
       "      <td>-1.690815e-08</td>\n",
       "      <td>4.808482e-09</td>\n",
       "      <td>-4.045574e-09</td>\n",
       "      <td>5.612483e-09</td>\n",
       "      <td>1.998262e-09</td>\n",
       "    </tr>\n",
       "    <tr>\n",
       "      <th>1</th>\n",
       "      <td>1</td>\n",
       "      <td>1</td>\n",
       "      <td>2015-12-29 14:50:35.846440</td>\n",
       "      <td>-1.825034</td>\n",
       "      <td>-0.203164</td>\n",
       "      <td>0.071941</td>\n",
       "      <td>0.077547</td>\n",
       "      <td>0.750917</td>\n",
       "      <td>-0.234958</td>\n",
       "      <td>31</td>\n",
       "      <td>...</td>\n",
       "      <td>1.801785e-07</td>\n",
       "      <td>1.679913e-07</td>\n",
       "      <td>1.823022e-07</td>\n",
       "      <td>1.729120e-07</td>\n",
       "      <td>8.148540e-08</td>\n",
       "      <td>-1.690815e-08</td>\n",
       "      <td>4.808482e-09</td>\n",
       "      <td>-4.045574e-09</td>\n",
       "      <td>5.612483e-09</td>\n",
       "      <td>1.998262e-09</td>\n",
       "    </tr>\n",
       "    <tr>\n",
       "      <th>2</th>\n",
       "      <td>1</td>\n",
       "      <td>2</td>\n",
       "      <td>2015-12-29 14:50:37.647880</td>\n",
       "      <td>-1.825034</td>\n",
       "      <td>-0.203164</td>\n",
       "      <td>0.071941</td>\n",
       "      <td>0.077547</td>\n",
       "      <td>0.750917</td>\n",
       "      <td>-0.234958</td>\n",
       "      <td>31</td>\n",
       "      <td>...</td>\n",
       "      <td>1.801785e-07</td>\n",
       "      <td>1.679913e-07</td>\n",
       "      <td>1.823022e-07</td>\n",
       "      <td>1.729120e-07</td>\n",
       "      <td>8.148540e-08</td>\n",
       "      <td>-1.690815e-08</td>\n",
       "      <td>4.808482e-09</td>\n",
       "      <td>-4.045574e-09</td>\n",
       "      <td>5.612483e-09</td>\n",
       "      <td>1.998262e-09</td>\n",
       "    </tr>\n",
       "    <tr>\n",
       "      <th>3</th>\n",
       "      <td>1</td>\n",
       "      <td>3</td>\n",
       "      <td>2015-12-29 14:50:39.449320</td>\n",
       "      <td>-1.825034</td>\n",
       "      <td>-0.203164</td>\n",
       "      <td>0.071941</td>\n",
       "      <td>0.077547</td>\n",
       "      <td>0.750917</td>\n",
       "      <td>-0.234958</td>\n",
       "      <td>31</td>\n",
       "      <td>...</td>\n",
       "      <td>1.801785e-07</td>\n",
       "      <td>1.679913e-07</td>\n",
       "      <td>1.823022e-07</td>\n",
       "      <td>1.729120e-07</td>\n",
       "      <td>8.148540e-08</td>\n",
       "      <td>-1.690815e-08</td>\n",
       "      <td>4.808482e-09</td>\n",
       "      <td>-4.045574e-09</td>\n",
       "      <td>5.612483e-09</td>\n",
       "      <td>1.998262e-09</td>\n",
       "    </tr>\n",
       "    <tr>\n",
       "      <th>4</th>\n",
       "      <td>1</td>\n",
       "      <td>4</td>\n",
       "      <td>2013-08-23 23:46:53.847000</td>\n",
       "      <td>-2.742992</td>\n",
       "      <td>0.252271</td>\n",
       "      <td>0.079860</td>\n",
       "      <td>0.085605</td>\n",
       "      <td>0.896362</td>\n",
       "      <td>0.115318</td>\n",
       "      <td>15</td>\n",
       "      <td>...</td>\n",
       "      <td>2.764014e-07</td>\n",
       "      <td>1.226376e-07</td>\n",
       "      <td>3.492019e-07</td>\n",
       "      <td>1.324661e-07</td>\n",
       "      <td>3.528180e-07</td>\n",
       "      <td>-3.674912e-07</td>\n",
       "      <td>-1.237481e-08</td>\n",
       "      <td>-1.061340e-07</td>\n",
       "      <td>1.117087e-07</td>\n",
       "      <td>-3.300352e-10</td>\n",
       "    </tr>\n",
       "  </tbody>\n",
       "</table>\n",
       "<p>5 rows × 23 columns</p>\n",
       "</div>"
      ],
      "text/plain": [
       "   label  traj                  time_stamp   coefs_0   coefs_1   coefs_2  \\\n",
       "0      1     0  2015-12-29 14:50:34.045000 -1.825034 -0.203164  0.071941   \n",
       "1      1     1  2015-12-29 14:50:35.846440 -1.825034 -0.203164  0.071941   \n",
       "2      1     2  2015-12-29 14:50:37.647880 -1.825034 -0.203164  0.071941   \n",
       "3      1     3  2015-12-29 14:50:39.449320 -1.825034 -0.203164  0.071941   \n",
       "4      1     4  2013-08-23 23:46:53.847000 -2.742992  0.252271  0.079860   \n",
       "\n",
       "   higher_z  initial_point_x  initial_point_y  nb_samples  ...    mean_speed  \\\n",
       "0  0.077547         0.750917        -0.234958          31  ...  1.801785e-07   \n",
       "1  0.077547         0.750917        -0.234958          31  ...  1.801785e-07   \n",
       "2  0.077547         0.750917        -0.234958          31  ...  1.801785e-07   \n",
       "3  0.077547         0.750917        -0.234958          31  ...  1.801785e-07   \n",
       "4  0.085605         0.896362         0.115318          15  ...  2.764014e-07   \n",
       "\n",
       "      q25_speed     q75_speed  median_speed       max_acc       min_acc  \\\n",
       "0  1.679913e-07  1.823022e-07  1.729120e-07  8.148540e-08 -1.690815e-08   \n",
       "1  1.679913e-07  1.823022e-07  1.729120e-07  8.148540e-08 -1.690815e-08   \n",
       "2  1.679913e-07  1.823022e-07  1.729120e-07  8.148540e-08 -1.690815e-08   \n",
       "3  1.679913e-07  1.823022e-07  1.729120e-07  8.148540e-08 -1.690815e-08   \n",
       "4  1.226376e-07  3.492019e-07  1.324661e-07  3.528180e-07 -3.674912e-07   \n",
       "\n",
       "       mean_acc       q25_acc       q75_acc    median_acc  \n",
       "0  4.808482e-09 -4.045574e-09  5.612483e-09  1.998262e-09  \n",
       "1  4.808482e-09 -4.045574e-09  5.612483e-09  1.998262e-09  \n",
       "2  4.808482e-09 -4.045574e-09  5.612483e-09  1.998262e-09  \n",
       "3  4.808482e-09 -4.045574e-09  5.612483e-09  1.998262e-09  \n",
       "4 -1.237481e-08 -1.061340e-07  1.117087e-07 -3.300352e-10  \n",
       "\n",
       "[5 rows x 23 columns]"
      ]
     },
     "execution_count": 16,
     "metadata": {},
     "output_type": "execute_result"
    }
   ],
   "source": [
    "X_mine.head()"
   ]
  },
  {
   "cell_type": "code",
   "execution_count": 17,
   "id": "cb9d3420",
   "metadata": {},
   "outputs": [],
   "source": [
    "traj_tsfresh = X_tsfresh['traj'].values\n",
    "traj_mine = X_mine['traj'].values"
   ]
  },
  {
   "cell_type": "code",
   "execution_count": 20,
   "id": "2fe9d5ab",
   "metadata": {},
   "outputs": [
    {
     "data": {
      "image/png": "[encoded data removed]",
      "text/plain": [
       "<Figure size 432x288 with 1 Axes>"
      ]
     },
     "metadata": {
      "needs_background": "light"
     },
     "output_type": "display_data"
    }
   ],
   "source": [
    "plt.figure()\n",
    "# plt.hist(traj_tsfresh)\n",
    "plt.hist(traj_mine)\n",
    "plt.show()"
   ]
  },
  {
   "cell_type": "markdown",
   "id": "8beecac7",
   "metadata": {},
   "source": [
    "## Imbalanced dataset"
   ]
  },
  {
   "cell_type": "code",
   "execution_count": 32,
   "id": "2d586a0e",
   "metadata": {},
   "outputs": [],
   "source": [
    "X = pd.read_csv(os.path.join('data_csv', 'features_train.csv'))\n",
    "\n",
    "y = X['label']"
   ]
  },
  {
   "cell_type": "code",
   "execution_count": 33,
   "id": "71a9c3d1",
   "metadata": {},
   "outputs": [
    {
     "data": {
      "text/plain": [
       "Text(0.5, 1.0, 'Original')"
      ]
     },
     "execution_count": 33,
     "metadata": {},
     "output_type": "execute_result"
    },
    {
     "data": {
      "image/png": "[encoded data removed]",
      "text/plain": [
       "<Figure size 720x360 with 1 Axes>"
      ]
     },
     "metadata": {},
     "output_type": "display_data"
    }
   ],
   "source": [
    "fig, axs = plt.subplots(ncols=1, figsize=(10, 5))\n",
    "autopct = \"%.2f\"\n",
    "y.value_counts().plot.pie(autopct=autopct, ax=axs)\n",
    "axs.set_title(\"Original\")"
   ]
  },
  {
   "cell_type": "code",
   "execution_count": 34,
   "id": "2b6b30e4",
   "metadata": {},
   "outputs": [
    {
     "data": {
      "text/plain": [
       "Text(0.5, 1.0, 'Over-sampling')"
      ]
     },
     "execution_count": 34,
     "metadata": {},
     "output_type": "execute_result"
    },
    {
     "data": {
      "image/png": "[encoded data removed]",
      "text/plain": [
       "<Figure size 720x360 with 2 Axes>"
      ]
     },
     "metadata": {},
     "output_type": "display_data"
    }
   ],
   "source": [
    "from imblearn.under_sampling import RandomUnderSampler\n",
    "from imblearn.over_sampling import RandomOverSampler\n",
    "sampling_strategy = \"not minority\"\n",
    "\n",
    "fig, axs = plt.subplots(ncols=2, figsize=(10, 5))\n",
    "rus = RandomUnderSampler(sampling_strategy=sampling_strategy)\n",
    "X_res_under, y_res_under = rus.fit_resample(X, y)\n",
    "y_res_under.value_counts().plot.pie(autopct=autopct, ax=axs[0])\n",
    "axs[0].set_title(\"Under-sampling\")\n",
    "\n",
    "sampling_strategy = \"not majority\"\n",
    "ros = RandomOverSampler(sampling_strategy=sampling_strategy)\n",
    "X_res_over, y_res_over = ros.fit_resample(X, y)\n",
    "y_res_over.value_counts().plot.pie(autopct=autopct, ax=axs[1])\n",
    "axs[1].set_title(\"Over-sampling\")"
   ]
  },
  {
   "cell_type": "code",
   "execution_count": 35,
   "id": "1edb988f",
   "metadata": {},
   "outputs": [
    {
     "name": "stdout",
     "output_type": "stream",
     "text": [
      "X_res_under (7017, 39)\n",
      "X_res_over (67386, 39)\n"
     ]
    }
   ],
   "source": [
    "print('X_res_under', X_res_under.shape)\n",
    "print('X_res_over', X_res_over.shape)"
   ]
  },
  {
   "cell_type": "code",
   "execution_count": null,
   "id": "9e68308b",
   "metadata": {},
   "outputs": [],
   "source": []
  }
 ],
 "metadata": {
  "kernelspec": {
   "display_name": "Python 3",
   "language": "python",
   "name": "python3"
  },
  "language_info": {
   "codemirror_mode": {
    "name": "ipython",
    "version": 3
   },
   "file_extension": ".py",
   "mimetype": "text/x-python",
   "name": "python",
   "nbconvert_exporter": "python",
   "pygments_lexer": "ipython3",
   "version": "3.8.8"
  }
 },
 "nbformat": 4,
 "nbformat_minor": 5
}
